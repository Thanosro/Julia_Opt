{
 "cells": [
  {
   "cell_type": "code",
   "execution_count": 4,
   "metadata": {
    "collapsed": true
   },
   "outputs": [],
   "source": [
    "using JuMP\n",
    "using Clp"
   ]
  },
  {
   "cell_type": "code",
   "execution_count": 23,
   "metadata": {},
   "outputs": [
    {
     "data": {
      "text/plain": [
       "0.4"
      ]
     },
     "execution_count": 23,
     "metadata": {},
     "output_type": "execute_result"
    }
   ],
   "source": [
    "T = 24;\n",
    "#  P_max = battery power capacity kW\n",
    "P_max = 5\n",
    "# E = battery energy capacity kWh\n",
    "E = \n",
    "# p_norm = normal energy charge $/kWh\n",
    "p_norm = 0.05 \n",
    "# p_peak = peak demand energy charge $/kW\n",
    "p_peak = 12/30"
   ]
  },
  {
   "cell_type": "code",
   "execution_count": 37,
   "metadata": {},
   "outputs": [
    {
     "ename": "LoadError",
     "evalue": "\u001b[91mMethodError: no method matching isless(::JuMP.GenericAffExpr{Float64,JuMP.Variable}, ::JuMP.GenericAffExpr{Float64,JuMP.Variable})\u001b[39m",
     "output_type": "error",
     "traceback": [
      "\u001b[91mMethodError: no method matching isless(::JuMP.GenericAffExpr{Float64,JuMP.Variable}, ::JuMP.GenericAffExpr{Float64,JuMP.Variable})\u001b[39m",
      "",
      "Stacktrace:",
      " [1] \u001b[1mscalarmax\u001b[22m\u001b[22m\u001b[1m(\u001b[22m\u001b[22m::JuMP.GenericAffExpr{Float64,JuMP.Variable}, ::JuMP.GenericAffExpr{Float64,JuMP.Variable}\u001b[1m)\u001b[22m\u001b[22m at \u001b[1m./operators.jl:375\u001b[22m\u001b[22m",
      " [2] \u001b[1mmapreduce_impl\u001b[22m\u001b[22m\u001b[1m(\u001b[22m\u001b[22m::Base.#identity, ::Base.#scalarmax, ::Array{JuMP.GenericAffExpr{Float64,JuMP.Variable},1}, ::Int64, ::Int64\u001b[1m)\u001b[22m\u001b[22m at \u001b[1m./reduce.jl:432\u001b[22m\u001b[22m",
      " [3] \u001b[1m_mapreduce\u001b[22m\u001b[22m\u001b[1m(\u001b[22m\u001b[22m::Base.#identity, ::Base.#scalarmax, ::IndexLinear, ::Array{JuMP.GenericAffExpr{Float64,JuMP.Variable},1}\u001b[1m)\u001b[22m\u001b[22m at \u001b[1m./reduce.jl:280\u001b[22m\u001b[22m",
      " [4] \u001b[1mmaximum\u001b[22m\u001b[22m\u001b[1m(\u001b[22m\u001b[22m::Array{JuMP.GenericAffExpr{Float64,JuMP.Variable},1}\u001b[1m)\u001b[22m\u001b[22m at \u001b[1m./reduce.jl:454\u001b[22m\u001b[22m"
     ]
    }
   ],
   "source": [
    "# Preparing an optimization model\n",
    "peak_sh = Model(solver=ClpSolver())\n",
    "\n",
    "# Declaring variables\n",
    "@variable(peak_sh, 0 <= b_ch[1:T] <= P_max)\n",
    "@variable(peak_sh, 0 <= b_dc[1:T] <= P_max)\n",
    "# @variable(peak_sh, b[1:T] == b_dc[1:T] - b_ch[1:T])\n",
    "# Adding constraints\n",
    "# @constraint(peak_sh, b[1:T] == b_dc[1:T] - b_ch[1:T])\n",
    "\n",
    "# Setting the objective\n",
    "@objective(peak_sh, Min, -p_norm*sum(b_dc[1:T] - b_ch[1:T]) + p_peak*maximum(-(b_dc[1:T] - b_ch[1:T])))\n",
    "@show peak_sh"
   ]
  }
 ],
 "metadata": {
  "kernelspec": {
   "display_name": "Julia 0.6.3",
   "language": "julia",
   "name": "julia-0.6"
  },
  "language_info": {
   "file_extension": ".jl",
   "mimetype": "application/julia",
   "name": "julia",
   "version": "0.6.3"
  }
 },
 "nbformat": 4,
 "nbformat_minor": 2
}
