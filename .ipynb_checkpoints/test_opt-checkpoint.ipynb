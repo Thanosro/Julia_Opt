{
 "cells": [
  {
   "cell_type": "code",
   "execution_count": null,
   "metadata": {},
   "outputs": [
    {
     "name": "stderr",
     "output_type": "stream",
     "text": [
      "\u001b[1m\u001b[36mINFO: \u001b[39m\u001b[22m\u001b[36mRecompiling stale cache file /home/thanos/.julia/lib/v0.6/Compose.ji for module Compose.\n",
      "\u001b[39m\u001b[1m\u001b[36mINFO: \u001b[39m\u001b[22m\u001b[36mRecompiling stale cache file /home/thanos/.julia/lib/v0.6/GraphPlot.ji for module GraphPlot.\n",
      "\u001b[39m"
     ]
    }
   ],
   "source": [
    "#using Cairo\n",
    "using GraphPlot\n",
    "#using Compose"
   ]
  },
  {
   "cell_type": "code",
   "execution_count": null,
   "metadata": {
    "collapsed": true
   },
   "outputs": [],
   "source": [
    "g = graphfamous(\"karate\")"
   ]
  },
  {
   "cell_type": "code",
   "execution_count": null,
   "metadata": {
    "collapsed": true
   },
   "outputs": [],
   "source": [
    "gplot(g)"
   ]
  },
  {
   "cell_type": "code",
   "execution_count": null,
   "metadata": {
    "collapsed": true
   },
   "outputs": [],
   "source": [
    "X = rand(2,1,2)\n",
    "# @show X\n",
    "print(X)\n",
    "# @time sum(X, 2)\n",
    "# @show X\n",
    "@show sum(X, 1)\n",
    "@show sum(X,2)\n",
    "@show sum(X,3)"
   ]
  },
  {
   "cell_type": "code",
   "execution_count": null,
   "metadata": {
    "collapsed": true
   },
   "outputs": [],
   "source": [
    "using JuMP\n",
    "using Clp\n",
    "\n",
    "# Preparing an optimization model\n",
    "m = Model(solver=ClpSolver())\n",
    "\n",
    "# Declaring variables\n",
    "@variable(m, 0<= x1 <=10)\n",
    "@variable(m, x2 >=0)\n",
    "@variable(m, x3 >=0)\n",
    "# integer constraint\n",
    "#@variable(m, x3 >=0, Int)\n",
    "# Setting the objective\n",
    "@objective(m, Max, x1 + 2x2 + 5x3)\n",
    "\n",
    "# Adding constraints\n",
    "@constraint(m, constraint1, -x1 +  x2 + 3x3 <= -5)\n",
    "@constraint(m, constraint2,  x1 + 3x2 - 7x3 <= 10)\n",
    "\n",
    "# Printing the prepared optimization model\n",
    "print(m)\n",
    "tic();\n",
    "# Solving the optimization problem\n",
    "solve(m)\n",
    "toc()\n",
    "#getsolvetime(m::Model)\n",
    "# Printing the optimal solutions obtained\n",
    "println(\"Optimal Solutions:\")\n",
    "println(\"x1 = \", getvalue(x1))\n",
    "println(\"x2 = \", getvalue(x2))\n",
    "println(\"x3 = \", getvalue(x3))\n",
    "\n",
    "# Printing the optimal dual variables\n",
    "println(\"Dual Variables:\")\n",
    "println(\"dual1 = \", getdual(constraint1))\n",
    "println(\"dual2 = \", getdual(constraint2))"
   ]
  },
  {
   "cell_type": "code",
   "execution_count": null,
   "metadata": {
    "collapsed": true
   },
   "outputs": [],
   "source": [
    "using JuMP\n",
    "myModel = Model()"
   ]
  },
  {
   "cell_type": "code",
   "execution_count": null,
   "metadata": {
    "collapsed": true
   },
   "outputs": [],
   "source": [
    "n = 10;\n",
    "l = collect(1:1:n)\n",
    "u = collect(n:1:2*n-1)"
   ]
  },
  {
   "cell_type": "code",
   "execution_count": null,
   "metadata": {
    "collapsed": true
   },
   "outputs": [],
   "source": [
    "x1 = @variable(myModel, l[i] <= x1[i=1:n] <= u[i])\n",
    "@show x1"
   ]
  },
  {
   "cell_type": "code",
   "execution_count": null,
   "metadata": {
    "collapsed": true
   },
   "outputs": [],
   "source": [
    "#@objective(myModel,Min,3x)\n",
    "print(myModel)"
   ]
  },
  {
   "cell_type": "code",
   "execution_count": 1,
   "metadata": {},
   "outputs": [
    {
     "data": {
      "text/plain": [
       "Array{Int64,1}"
      ]
     },
     "execution_count": 1,
     "metadata": {},
     "output_type": "execute_result"
    }
   ],
   "source": [
    "Lt = collect(1:24);\n",
    "E_i = 5\n",
    "E_c = 50\n",
    "# Csum = LowerTriangular(ones((24,24)))\n",
    "Lt |> typeof"
   ]
  },
  {
   "cell_type": "code",
   "execution_count": 2,
   "metadata": {
    "collapsed": true
   },
   "outputs": [],
   "source": [
    "using JuMP\n",
    "using Clp\n",
    "using MAT"
   ]
  },
  {
   "cell_type": "code",
   "execution_count": 3,
   "metadata": {
    "collapsed": true
   },
   "outputs": [],
   "source": [
    "file = matopen(\"month_data.mat\")\n",
    "# shows the file contents\n",
    "varnames = names(file)\n",
    "# loads the variable\n",
    "Lt_month = read(file, \"monthly_norm_data\");\n",
    "#  prints the contents of the file (if file contains string str1)\n",
    "# print(read(file, \"str1\"))"
   ]
  },
  {
   "cell_type": "code",
   "execution_count": 4,
   "metadata": {
    "collapsed": true
   },
   "outputs": [],
   "source": [
    "# access dictionary data\n",
    "Lt = Lt_month[\"Aug\"][1:24,10];"
   ]
  },
  {
   "cell_type": "code",
   "execution_count": null,
   "metadata": {
    "collapsed": true
   },
   "outputs": [],
   "source": [
    "using Plots\n",
    "plotly() \n",
    "plot(Lt,linewidth=2,title=\"Daily Load\")\n",
    "yaxis!(\"Load (MW)\")\n",
    "xaxis!(\"Hours\")"
   ]
  },
  {
   "cell_type": "code",
   "execution_count": null,
   "metadata": {
    "collapsed": true
   },
   "outputs": [],
   "source": [
    "Lt_month |> typeof"
   ]
  },
  {
   "cell_type": "code",
   "execution_count": 5,
   "metadata": {},
   "outputs": [
    {
     "data": {
      "text/latex": [
       "$$ \\begin{alignat*}{1}\\min\\quad & 0\\\\\n",
       "\\text{Subject to} \\quad\\end{alignat*}\n",
       " $$"
      ],
      "text/plain": [
       "Feasibility problem with:\n",
       " * 0 linear constraints\n",
       " * 0 variables\n",
       "Solver is ClpMathProg"
      ]
     },
     "execution_count": 5,
     "metadata": {},
     "output_type": "execute_result"
    }
   ],
   "source": [
    "duck_curve = Model(solver = ClpSolver())"
   ]
  },
  {
   "cell_type": "code",
   "execution_count": 7,
   "metadata": {},
   "outputs": [
    {
     "ename": "LoadError",
     "evalue": "\u001b[91mMethodError: Cannot `convert` an object of type JuMP.GenericQuadExpr{Float64,JuMP.Variable} to an object of type JuMP.GenericAffExpr{Float64,JuMP.Variable}\nThis may have arisen from a call to the constructor JuMP.GenericAffExpr{Float64,JuMP.Variable}(...),\nsince type constructors fall back to convert methods.\u001b[39m",
     "output_type": "error",
     "traceback": [
      "\u001b[91mMethodError: Cannot `convert` an object of type JuMP.GenericQuadExpr{Float64,JuMP.Variable} to an object of type JuMP.GenericAffExpr{Float64,JuMP.Variable}\nThis may have arisen from a call to the constructor JuMP.GenericAffExpr{Float64,JuMP.Variable}(...),\nsince type constructors fall back to convert methods.\u001b[39m",
      "",
      "Stacktrace:",
      " [1] \u001b[1mA_mul_B!\u001b[22m\u001b[22m\u001b[1m(\u001b[22m\u001b[22m::LowerTriangular{JuMP.GenericAffExpr{Float64,JuMP.Variable},Array{JuMP.GenericAffExpr{Float64,JuMP.Variable},2}}, ::Array{JuMP.GenericAffExpr{Float64,JuMP.Variable},1}\u001b[1m)\u001b[22m\u001b[22m at \u001b[1m./linalg/triangular.jl:665\u001b[22m\u001b[22m",
      " [2] \u001b[1m*\u001b[22m\u001b[22m\u001b[1m(\u001b[22m\u001b[22m::LowerTriangular{Float64,Array{Float64,2}}, ::Array{JuMP.Variable,1}\u001b[1m)\u001b[22m\u001b[22m at \u001b[1m./linalg/triangular.jl:1605\u001b[22m\u001b[22m",
      " [3] \u001b[1maddtoexpr_reorder\u001b[22m\u001b[22m\u001b[1m(\u001b[22m\u001b[22m::JuMP.GenericAffExpr{Float64,JuMP.Variable}, ::LowerTriangular{Float64,Array{Float64,2}}, ::Array{JuMP.Variable,1}\u001b[1m)\u001b[22m\u001b[22m at \u001b[1m/home/thanos/.julia/v0.6/JuMP/src/parseExpr_staged.jl:280\u001b[22m\u001b[22m"
     ]
    },
    {
     "name": "stderr",
     "output_type": "stream",
     "text": [
      "\u001b[1m\u001b[33mWARNING: \u001b[39m\u001b[22m\u001b[33mA variable or constraint named totld is already attached to this model. If creating variables programmatically, use the anonymous variable syntax x = @variable(m, [1:N], ...).\u001b[39m\n",
      "\u001b[1m\u001b[33mWARNING: \u001b[39m\u001b[22m\u001b[33mA variable or constraint named b is already attached to this model. If creating variables programmatically, use the anonymous variable syntax x = @variable(m, [1:N], ...).\u001b[39m\n",
      "\u001b[1m\u001b[33mWARNING: \u001b[39m\u001b[22m\u001b[33mA variable or constraint named epsilon is already attached to this model. If creating variables programmatically, use the anonymous variable syntax x = @variable(m, [1:N], ...).\u001b[39m\n"
     ]
    }
   ],
   "source": [
    "@variable duck_curve totld[t=1:24] \n",
    "@variable(duck_curve,b[t = 1:24])\n",
    "@variable(duck_curve, epsilon)\n",
    "# @variable(duck_curve,Csum[24,24])\n",
    "const Csum = LowerTriangular(ones((24,24)))\n",
    "# constraint for the gradient\n",
    "@constraint(duck_curve, tim[ti = 2:24],  totld[ti] - totld[ti-1] <= epsilon)\n",
    "# total load = Load - battery\n",
    "# @constraint(duck_curve,Csum == LowerTriangular(ones((24,24))))\n",
    "@constraint(duck_curve,totld[t=1:24] .== Lt[t=1:24] - b[t=1:24])\n",
    "@constraint(duck_curve, 0.<= Csum*b .<= E_i)\n",
    "# for i in 1:24\n",
    "#     @defConstrRef(duck_curve,0 <= sum{b[1:i_temp],i_temp = 1:i} <= E_i)\n",
    "# end\n",
    "@objective(duck_curve,Min,epsilon)\n",
    "@show duck_curve\n",
    "# epsilon |> typeof"
   ]
  },
  {
   "cell_type": "code",
   "execution_count": null,
   "metadata": {
    "collapsed": true
   },
   "outputs": [],
   "source": [
    "b |> typeof"
   ]
  },
  {
   "cell_type": "code",
   "execution_count": null,
   "metadata": {
    "collapsed": true
   },
   "outputs": [],
   "source": [
    "print(typeof(LowerTriangular(ones((24,24)))),\"\\n\")\n",
    "print(typeof(b),\"\\n\")\n",
    "@show LowerTriangular(ones((3,3)))"
   ]
  },
  {
   "cell_type": "code",
   "execution_count": null,
   "metadata": {
    "collapsed": true
   },
   "outputs": [],
   "source": [
    "c = [1 3 5 2]'\n",
    "A = [ \n",
    "1 1 9 5;\n",
    "3 5 0 8;\n",
    "2 0 6 13\n",
    "]\n",
    "b = [7 3 5]'\n",
    "m, n = size(A)"
   ]
  },
  {
   "cell_type": "code",
   "execution_count": null,
   "metadata": {
    "collapsed": true
   },
   "outputs": [],
   "source": [
    "clpmodel = Model(solver = ClpSolver())\n",
    "@variable(clpmodel,x[1:n])\n",
    "@variable(clpmodel,y[1:n])"
   ]
  },
  {
   "cell_type": "code",
   "execution_count": null,
   "metadata": {
    "collapsed": true
   },
   "outputs": [],
   "source": [
    "@constraint(clpmodel, constr[i=1:n,j=1:n; i+j <= 3], x[i] - y[j] == 1)"
   ]
  },
  {
   "cell_type": "code",
   "execution_count": null,
   "metadata": {
    "collapsed": true
   },
   "outputs": [],
   "source": [
    "print(clpmodel)"
   ]
  },
  {
   "cell_type": "code",
   "execution_count": null,
   "metadata": {
    "collapsed": true
   },
   "outputs": [],
   "source": [
    "using JuMP\n",
    "using Clp\n",
    "#JuMP: A MODELING LANGUAGE FOR MATHEMATICAL OPTIMIZATION\n",
    "#299\n",
    "#$JuMP\n",
    "node = collect(1:5)\n",
    "immutable Edge\n",
    "    from; to; cost; capacity\n",
    "end\n",
    "edges = [Edge(1,2,1,0.5), Edge(1,3,2,0.4), Edge(1,4,3,0.6),\n",
    "Edge(2,5,2,0.3), Edge(3,5,2,0.6), Edge(4,5,2,0.5)]\n",
    "mcf = Model(solver = ClpSolver())\n",
    "\n",
    "@variable(mcf, 0 <= flow[e in edges] <= e.capacity)\n",
    "@constraint(mcf, sum{flow[e], e in edges; e.to==5}== 1)\n",
    "@constraint(mcf, flowcon[n=2:4], sum{flow[e], e in edges; e.to==node}\n",
    "    == sum{flow[e], e in edges; e.from==node})\n",
    "@objective(mcf, Min, sum{e.cost * flow[e], e in edges})\n",
    "# print(mcf)"
   ]
  },
  {
   "cell_type": "code",
   "execution_count": null,
   "metadata": {
    "collapsed": true
   },
   "outputs": [],
   "source": [
    "@show node\n",
    "@show mcf"
   ]
  },
  {
   "cell_type": "code",
   "execution_count": null,
   "metadata": {
    "collapsed": true
   },
   "outputs": [],
   "source": [
    "status = solve(mcf) # solves the model"
   ]
  },
  {
   "cell_type": "code",
   "execution_count": null,
   "metadata": {
    "collapsed": true
   },
   "outputs": [],
   "source": [
    "println(\"Minimum Cost is: \", getobjectivevalue(mcf)) # getObjectiveValue(model_name) gives the optimum objective value\n",
    "\n",
    "println(\"Flow is = \\n\", getvalue(flow)) # getValue(decision_variable) will give the optimum value \n",
    "                                                   # of the associated decision variable"
   ]
  },
  {
   "cell_type": "code",
   "execution_count": null,
   "metadata": {
    "collapsed": true
   },
   "outputs": [],
   "source": [
    "T = 4\n",
    "Ns = 4\n",
    "O = 5\n",
    "MAX_GEN = 50\n",
    "gamma_gen = linspace(0, MAX_GEN, O)\n",
    "s_cap = 10\n",
    "d = 3\n",
    "L_t = \n",
    "@show T Ns O gamma_gen\n",
    "print(ndims(gamma_gen))"
   ]
  },
  {
   "cell_type": "code",
   "execution_count": null,
   "metadata": {
    "collapsed": true
   },
   "outputs": [],
   "source": [
    "using JuMP\n",
    "using Clp\n",
    "#JuMP: A MODELING LANGUAGE FOR MATHEMATICAL OPTIMIZATION\n",
    "#299\n",
    "#$JuMP\n",
    "sd_mg = Model(solver = ClpSolver())\n",
    "# myfunction2(A) = sum(A,2)\n",
    "# myexp2 = sum(xi,2)\n",
    "# @variable(sd_mg, 0 <= flow[e in edges] <= 1)e.capacity)\n",
    "# @variable(sd_mg, 0 <= xi[[i in 1:Ns][j in 1:O][t in 1:T]] <= 1)\n",
    "@variable(sd_mg, 0 <= xi[1:Ns,1:O,t = 1:T] <= 1,Bin)\n",
    "@variable(sd_mg, -d <= (st[1:Ns,1:O,t = 1:T]) <=  d)\n",
    "for i in 1:Ns\n",
    "    for t in 1:T\n",
    "    @constraint(sd_mg,sum(xi[i,:,t]) == 1)\n",
    "    end\n",
    "end\n",
    "# for t in 1:T\n",
    "#     @constraint(sd_mg,cumsum(xi[:,:,t]) <= s_cap)\n",
    "# end\n",
    "# @constraint(sd_mg,sum{xi[i,j,t],i=1:Ns,j,t = 1:T} == 1)\n",
    "# linearterms{sum(xi,2),1}#(aff::GenericAffExpr{C,V})\n",
    "# @objective(sd_mg,Min, sum(gamma_gen * (xi[j]) for j in 1:O))\n",
    "@show sd_mg"
   ]
  },
  {
   "cell_type": "code",
   "execution_count": null,
   "metadata": {
    "collapsed": true
   },
   "outputs": [],
   "source": [
    "@constraint(sd_mg, sum{flow[e], e in edges; e.to==5}== 1)\n",
    "@constraint(sd_mg, flowcon[n=2:4], sum{flow[e], e in edges; e.to==node}\n",
    "    == sum{flow[e], e in edges; e.from==node})\n",
    "@objective(mcf, Min, sum{e.cost * flow[e], e in edges})"
   ]
  },
  {
   "cell_type": "code",
   "execution_count": null,
   "metadata": {
    "collapsed": true
   },
   "outputs": [],
   "source": [
    "δ = 5\n",
    "print(δ)"
   ]
  },
  {
   "cell_type": "code",
   "execution_count": null,
   "metadata": {
    "collapsed": true
   },
   "outputs": [],
   "source": [
    "using JuMP\n",
    "using Clp\n",
    "lp = Model(solver = ClpSolver())\n",
    "@variable(lp, x2 >=0)\n",
    "@variable(lp, x3 >=0)\n",
    "@variable(lp, x1 >=0)\n",
    "@objective(lp,Max, x1+x2+x3)\n",
    "@constraints(lp, begin\n",
    "    x1 + x2 <= 1\n",
    "    x2 + x3 <= 1\n",
    "    x1 + x3 <= 1\n",
    "        end)\n",
    "@show lp"
   ]
  },
  {
   "cell_type": "code",
   "execution_count": null,
   "metadata": {
    "collapsed": true
   },
   "outputs": [],
   "source": [
    "status = solve(lp)"
   ]
  },
  {
   "cell_type": "code",
   "execution_count": null,
   "metadata": {
    "collapsed": true
   },
   "outputs": [],
   "source": [
    "print(\"x1 = \",getvalue(x1),\"\\n\")\n",
    "print(\"x2 = \",getvalue(x2),\"\\n\")\n",
    "print(\"x3 = \",getvalue(x3),\"\\n\")"
   ]
  },
  {
   "cell_type": "code",
   "execution_count": null,
   "metadata": {
    "collapsed": true
   },
   "outputs": [],
   "source": [
    "using JuMP\n",
    "m = Model()\n",
    "@variable(m, x[1:100, 1:100])\n",
    "a = [[13,4], [22,78], [18,97], [56,32]]\n",
    "# @constraint(m, sum(x[i] for i in a) == 87)\n",
    "@constraint(m, sum(x[i,j] for (i,j) in a) == 87)\n",
    "println(m)"
   ]
  },
  {
   "cell_type": "code",
   "execution_count": null,
   "metadata": {
    "collapsed": true
   },
   "outputs": [],
   "source": [
    ";ls "
   ]
  },
  {
   "cell_type": "code",
   "execution_count": null,
   "metadata": {
    "collapsed": true
   },
   "outputs": [],
   "source": [
    "using JuMP\n",
    "m = Model()\n",
    "@variable(m, 0 <= x[i=1:5,j=1:3] <= 1)\n",
    "c = rand(5,3)\n",
    "@constraint(m, sum{c[i,j]*x[i,j],i=1:5,j=1:3} <= 10)\n",
    "@show m"
   ]
  }
 ],
 "metadata": {
  "kernelspec": {
   "display_name": "Julia 0.6.3",
   "language": "julia",
   "name": "julia-0.6"
  },
  "language_info": {
   "file_extension": ".jl",
   "mimetype": "application/julia",
   "name": "julia",
   "version": "0.6.3"
  }
 },
 "nbformat": 4,
 "nbformat_minor": 2
}
