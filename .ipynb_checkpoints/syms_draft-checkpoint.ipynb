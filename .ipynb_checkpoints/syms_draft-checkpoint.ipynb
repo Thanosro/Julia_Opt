{
 "cells": [
  {
   "cell_type": "code",
   "execution_count": 1,
   "metadata": {},
   "outputs": [
    {
     "data": {
      "text/plain": [
       "(x1, x2, x3, x4, x5)"
      ]
     },
     "execution_count": 1,
     "metadata": {},
     "output_type": "execute_result"
    }
   ],
   "source": [
    "using SymPy\n",
    "x = Sym(\"x\")\n",
    "@vars x1 x2 x3 x4 x5"
   ]
  },
  {
   "cell_type": "code",
   "execution_count": 2,
   "metadata": {
    "collapsed": true
   },
   "outputs": [],
   "source": [
    "x_v = [x1 x2 x3 x4 x5].'\n",
    "# i_temp = 1:5;"
   ]
  },
  {
   "cell_type": "code",
   "execution_count": 31,
   "metadata": {},
   "outputs": [
    {
     "ename": "LoadError",
     "evalue": "\u001b[91mMethodError: no method matching colon(::Int64, ::UnitRange{Int64})\u001b[0m\nClosest candidates are:\n  colon(::T<:Real, ::Any, \u001b[91m::T<:Real\u001b[39m) where T<:Real at range.jl:47\n  colon(::A<:Real, ::Any, \u001b[91m::C<:Real\u001b[39m) where {A<:Real, C<:Real} at range.jl:14\n  colon(::T, ::Any, \u001b[91m::T\u001b[39m) where T at range.jl:46\n  ...\u001b[39m",
     "output_type": "error",
     "traceback": [
      "\u001b[91mMethodError: no method matching colon(::Int64, ::UnitRange{Int64})\u001b[0m\nClosest candidates are:\n  colon(::T<:Real, ::Any, \u001b[91m::T<:Real\u001b[39m) where T<:Real at range.jl:47\n  colon(::A<:Real, ::Any, \u001b[91m::C<:Real\u001b[39m) where {A<:Real, C<:Real} at range.jl:14\n  colon(::T, ::Any, \u001b[91m::T\u001b[39m) where T at range.jl:46\n  ...\u001b[39m",
      "",
      "Stacktrace:",
      " [1] \u001b[1mmacro expansion\u001b[22m\u001b[22m at \u001b[1m./show.jl:243\u001b[22m\u001b[22m [inlined]",
      " [2] \u001b[1mmacro expansion\u001b[22m\u001b[22m at \u001b[1m./In[31]:2\u001b[22m\u001b[22m [inlined]",
      " [3] \u001b[1manonymous\u001b[22m\u001b[22m at \u001b[1m./<missing>:?\u001b[22m\u001b[22m",
      " [4] \u001b[1minclude_string\u001b[22m\u001b[22m\u001b[1m(\u001b[22m\u001b[22m::String, ::String\u001b[1m)\u001b[22m\u001b[22m at \u001b[1m./loading.jl:522\u001b[22m\u001b[22m"
     ]
    }
   ],
   "source": [
    "for i in 1:5\n",
    "    @show sum{i_temp= 1:i, x_v[1:i_temp]}\n",
    "end"
   ]
  },
  {
   "cell_type": "code",
   "execution_count": null,
   "metadata": {
    "collapsed": true
   },
   "outputs": [],
   "source": [
    "A = ones((5,5))\n",
    "At = LowerTriangular(ones((5,5)))"
   ]
  },
  {
   "cell_type": "code",
   "execution_count": null,
   "metadata": {
    "collapsed": true
   },
   "outputs": [],
   "source": [
    "for i in 1:5\n",
    "    @show At[i,:]\n",
    "#     @show size( At[i,:])\n",
    "end"
   ]
  },
  {
   "cell_type": "code",
   "execution_count": null,
   "metadata": {
    "collapsed": true
   },
   "outputs": [],
   "source": [
    "@show At*x_v"
   ]
  },
  {
   "cell_type": "code",
   "execution_count": null,
   "metadata": {
    "collapsed": true
   },
   "outputs": [],
   "source": [
    "50*ones((2,1))"
   ]
  },
  {
   "cell_type": "code",
   "execution_count": 9,
   "metadata": {},
   "outputs": [],
   "source": [
    "# Define the packages \n",
    "using JuMP # used for mathematical programming\n",
    "using Interact # used for enabling the slider\n",
    "using Gadfly # used for plotting\n",
    "using Clp"
   ]
  },
  {
   "cell_type": "code",
   "execution_count": 10,
   "metadata": {},
   "outputs": [
    {
     "name": "stderr",
     "output_type": "stream",
     "text": [
      "WARNING: redefining constant g_max\n",
      "WARNING: redefining constant g_min\n",
      "WARNING: redefining constant c_g\n",
      "WARNING: redefining constant c_g0\n"
     ]
    }
   ],
   "source": [
    "# Define some input data about the test system\n",
    "# Maximum power output of generators\n",
    "const g_max = [1000,1000];\n",
    "# Minimum power output of generators\n",
    "const g_min = [0,300];\n",
    "# Incremental cost of generators \n",
    "const c_g = [50,100];\n",
    "# Fixed cost of generators\n",
    "const c_g0 = [1000,0]\n",
    "# Incremental cost of wind generators\n",
    "const c_w = 50;\n",
    "# Total demand\n",
    "const d = 1500;\n",
    "# Wind forecast\n",
    "const w_f = 200;"
   ]
  },
  {
   "cell_type": "code",
   "execution_count": 12,
   "metadata": {},
   "outputs": [
    {
     "name": "stderr",
     "output_type": "stream",
     "text": [
      "\u001b[1m\u001b[33mWARNING: \u001b[39m\u001b[22m\u001b[33m@defVar is deprecated, use @variable instead.\u001b[39m\n",
      "Stacktrace:\n",
      " [1] \u001b[1mdepwarn\u001b[22m\u001b[22m\u001b[1m(\u001b[22m\u001b[22m::String, ::Symbol\u001b[1m)\u001b[22m\u001b[22m at \u001b[1m./deprecated.jl:70\u001b[22m\u001b[22m\n",
      " [2] \u001b[1m@defVar\u001b[22m\u001b[22m\u001b[1m(\u001b[22m\u001b[22m::Vararg{Any,N} where N\u001b[1m)\u001b[22m\u001b[22m at \u001b[1m/home/thanos/.julia/v0.6/JuMP/src/deprecated.jl:18\u001b[22m\u001b[22m\n",
      " [3] \u001b[1minclude_string\u001b[22m\u001b[22m\u001b[1m(\u001b[22m\u001b[22m::String, ::String\u001b[1m)\u001b[22m\u001b[22m at \u001b[1m./loading.jl:522\u001b[22m\u001b[22m\n",
      " [4] \u001b[1minclude_string\u001b[22m\u001b[22m\u001b[1m(\u001b[22m\u001b[22m::Module, ::String, ::String\u001b[1m)\u001b[22m\u001b[22m at \u001b[1m/home/thanos/.julia/v0.6/Compat/src/Compat.jl:88\u001b[22m\u001b[22m\n",
      " [5] \u001b[1mexecute_request\u001b[22m\u001b[22m\u001b[1m(\u001b[22m\u001b[22m::ZMQ.Socket, ::IJulia.Msg\u001b[1m)\u001b[22m\u001b[22m at \u001b[1m/home/thanos/.julia/v0.6/IJulia/src/execute_request.jl:180\u001b[22m\u001b[22m\n",
      " [6] \u001b[1m(::Compat.#inner#14{Array{Any,1},IJulia.#execute_request,Tuple{ZMQ.Socket,IJulia.Msg}})\u001b[22m\u001b[22m\u001b[1m(\u001b[22m\u001b[22m\u001b[1m)\u001b[22m\u001b[22m at \u001b[1m/home/thanos/.julia/v0.6/Compat/src/Compat.jl:332\u001b[22m\u001b[22m\n",
      " [7] \u001b[1meventloop\u001b[22m\u001b[22m\u001b[1m(\u001b[22m\u001b[22m::ZMQ.Socket\u001b[1m)\u001b[22m\u001b[22m at \u001b[1m/home/thanos/.julia/v0.6/IJulia/src/eventloop.jl:8\u001b[22m\u001b[22m\n",
      " [8] \u001b[1m(::IJulia.##15#18)\u001b[22m\u001b[22m\u001b[1m(\u001b[22m\u001b[22m\u001b[1m)\u001b[22m\u001b[22m at \u001b[1m./task.jl:335\u001b[22m\u001b[22m\n",
      "while loading In[12], in expression starting on line 2\n",
      "\u001b[1m\u001b[33mWARNING: \u001b[39m\u001b[22m\u001b[33mgetValue is deprecated, use getvalue instead.\u001b[39m\n",
      "Stacktrace:\n",
      " [1] \u001b[1mdepwarn\u001b[22m\u001b[22m\u001b[1m(\u001b[22m\u001b[22m::String, ::Symbol\u001b[1m)\u001b[22m\u001b[22m at \u001b[1m./deprecated.jl:70\u001b[22m\u001b[22m\n",
      " [2] \u001b[1mgetValue\u001b[22m\u001b[22m\u001b[1m(\u001b[22m\u001b[22m::Array{JuMP.Variable,1}, ::Vararg{Array{JuMP.Variable,1},N} where N\u001b[1m)\u001b[22m\u001b[22m at \u001b[1m./deprecated.jl:31\u001b[22m\u001b[22m\n",
      " [3] \u001b[1msolve_ed\u001b[22m\u001b[22m\u001b[1m(\u001b[22m\u001b[22m::Array{Int64,1}, ::Array{Int64,1}, ::Array{Int64,1}, ::Int64, ::Int64, ::Int64\u001b[1m)\u001b[22m\u001b[22m at \u001b[1m./In[12]:29\u001b[22m\u001b[22m\n",
      " [4] \u001b[1minclude_string\u001b[22m\u001b[22m\u001b[1m(\u001b[22m\u001b[22m::String, ::String\u001b[1m)\u001b[22m\u001b[22m at \u001b[1m./loading.jl:522\u001b[22m\u001b[22m\n",
      " [5] \u001b[1minclude_string\u001b[22m\u001b[22m\u001b[1m(\u001b[22m\u001b[22m::Module, ::String, ::String\u001b[1m)\u001b[22m\u001b[22m at \u001b[1m/home/thanos/.julia/v0.6/Compat/src/Compat.jl:88\u001b[22m\u001b[22m\n",
      " [6] \u001b[1mexecute_request\u001b[22m\u001b[22m\u001b[1m(\u001b[22m\u001b[22m::ZMQ.Socket, ::IJulia.Msg\u001b[1m)\u001b[22m\u001b[22m at \u001b[1m/home/thanos/.julia/v0.6/IJulia/src/execute_request.jl:180\u001b[22m\u001b[22m\n",
      " [7] \u001b[1m(::Compat.#inner#14{Array{Any,1},IJulia.#execute_request,Tuple{ZMQ.Socket,IJulia.Msg}})\u001b[22m\u001b[22m\u001b[1m(\u001b[22m\u001b[22m\u001b[1m)\u001b[22m\u001b[22m at \u001b[1m/home/thanos/.julia/v0.6/Compat/src/Compat.jl:332\u001b[22m\u001b[22m\n",
      " [8] \u001b[1meventloop\u001b[22m\u001b[22m\u001b[1m(\u001b[22m\u001b[22m::ZMQ.Socket\u001b[1m)\u001b[22m\u001b[22m at \u001b[1m/home/thanos/.julia/v0.6/IJulia/src/eventloop.jl:8\u001b[22m\u001b[22m\n",
      " [9] \u001b[1m(::IJulia.##15#18)\u001b[22m\u001b[22m\u001b[1m(\u001b[22m\u001b[22m\u001b[1m)\u001b[22m\u001b[22m at \u001b[1m./task.jl:335\u001b[22m\u001b[22m\n",
      "while loading In[12], in expression starting on line 33\n"
     ]
    },
    {
     "name": "stdout",
     "output_type": "stream",
     "text": [
      "\n",
      "\n",
      "Dispatch of Generators: [1000.0, 300.0] MW\n",
      "Dispatch of Wind: 200.0 MW\n",
      "Wind spillage: 0.0 MW\n",
      "\n",
      "\n",
      "Total cost: 90000.0$\n"
     ]
    }
   ],
   "source": [
    "# In this cell we create  function solve_ed, which solves the economic dispatch problem for a given set of input parameters.\n",
    "function solve_ed(g_max, g_min, c_g, c_w, d, w_f)\n",
    "    #Define the economic dispatch (ED) model\n",
    "    ed=Model(solver=ClpSolver()) \n",
    "    \n",
    "    # Define decision variables    \n",
    "    @defVar(ed, 0 <= g[i=1:2] <= g_max[i]) # power output of generators\n",
    "    @defVar(ed, 0 <= w  <= w_f ) # wind power injection\n",
    "\n",
    "    # Define the objective function\n",
    "    @setObjective(ed,Min,sum{c_g[i] * g[i],i=1:2}+ c_w * w)\n",
    "\n",
    "    # Define the constraint on the maximum and minimum power output of each generator\n",
    "    for i in 1:2\n",
    "        @addConstraint(ed,  g[i] <= g_max[i]) #maximum\n",
    "        @addConstraint(ed,  g[i] >= g_min[i]) #minimum\n",
    "    end\n",
    "\n",
    "    # Define the constraint on the wind power injection\n",
    "    @addConstraint(ed, w <= w_f)\n",
    "\n",
    "    # Define the power balance constraint\n",
    "    @addConstraint(ed, sum{g[i], i=1:2} + w == d)\n",
    "\n",
    "    # Solve statement\n",
    "    solve(ed)\n",
    "    \n",
    "    # return the optimal value of the objective function and its minimizers\n",
    "    return getValue(g), getValue(w), w_f-getValue(w), getObjectiveValue(ed)\n",
    "end\n",
    "\n",
    "# Solve the economic dispatch problem\n",
    "(g_opt,w_opt,ws_opt,obj)=solve_ed(g_max, g_min, c_g, c_w, d, w_f);\n",
    "\n",
    "println(\"\\n\")\n",
    "println(\"Dispatch of Generators: \", g_opt[i=1:2], \" MW\")\n",
    "println(\"Dispatch of Wind: \", w_opt, \" MW\")\n",
    "println(\"Wind spillage: \", w_f-w_opt, \" MW\") \n",
    "println(\"\\n\")\n",
    "println(\"Total cost: \", obj, \"\\$\")"
   ]
  },
  {
   "cell_type": "code",
   "execution_count": 14,
   "metadata": {},
   "outputs": [
    {
     "data": {
      "application/vnd.jupyter.widget-view+json": {
       "model_id": "8113fcf6-605f-42fb-a041-8d922e85f6e6",
       "version_major": 2,
       "version_minor": 0
      }
     },
     "metadata": {},
     "output_type": "display_data"
    },
    {
     "data": {
      "text/html": [],
      "text/plain": [
       "Interact.Options{:SelectionSlider,Float64}(5: \"input-2\" = 1.75 Float64 , \"c_g1_scale\", 1.75, \"1.75\", 126, Interact.OptionDict(DataStructures.OrderedDict(\"0.5\"=>0.5,\"0.51\"=>0.51,\"0.52\"=>0.52,\"0.53\"=>0.53,\"0.54\"=>0.54,\"0.55\"=>0.55,\"0.56\"=>0.56,\"0.57\"=>0.57,\"0.58\"=>0.58,\"0.59\"=>0.59…), Dict(1.2=>\"1.2\",2.37=>\"2.37\",1.68=>\"1.68\",1.19=>\"1.19\",2.75=>\"2.75\",0.89=>\"0.89\",1.35=>\"1.35\",2.62=>\"2.62\",2.78=>\"2.78\",2.24=>\"2.24\"…)), Any[], Any[], true, \"horizontal\", true)"
      ]
     },
     "metadata": {},
     "output_type": "display_data"
    },
    {
     "data": {
      "text/html": [
       "Dispatch of Generators, MW: [1000.0, 300.0]<br>Dispatch of Wind, MW: 200.0<br>Spillage of Wind, MW: 0.0<br>Total cost, $: 127500.0"
      ],
      "text/plain": [
       "HTML{String}(\"Dispatch of Generators, MW: [1000.0, 300.0]<br>Dispatch of Wind, MW: 200.0<br>Spillage of Wind, MW: 0.0<br>Total cost, \\$: 127500.0\")"
      ]
     },
     "execution_count": 14,
     "metadata": {
      "comm_id": "82ef0697-36fe-42bb-b49f-2e40de49b833",
      "reactive": true
     },
     "output_type": "execute_result"
    },
    {
     "name": "stderr",
     "output_type": "stream",
     "text": [
      "\u001b[1m\u001b[33mWARNING: \u001b[39m\u001b[22m\u001b[33mgetValue is deprecated, use getvalue instead.\u001b[39m\n",
      "Stacktrace:\n",
      " [1] \u001b[1mdepwarn\u001b[22m\u001b[22m\u001b[1m(\u001b[22m\u001b[22m::String, ::Symbol\u001b[1m)\u001b[22m\u001b[22m at \u001b[1m./deprecated.jl:70\u001b[22m\u001b[22m\n",
      " [2] \u001b[1mgetValue\u001b[22m\u001b[22m\u001b[1m(\u001b[22m\u001b[22m::Array{JuMP.Variable,1}, ::Vararg{Array{JuMP.Variable,1},N} where N\u001b[1m)\u001b[22m\u001b[22m at \u001b[1m./deprecated.jl:31\u001b[22m\u001b[22m\n",
      " [3] \u001b[1msolve_ed\u001b[22m\u001b[22m\u001b[1m(\u001b[22m\u001b[22m::Array{Int64,1}, ::Array{Int64,1}, ::Array{Float64,1}, ::Int64, ::Int64, ::Int64\u001b[1m)\u001b[22m\u001b[22m at \u001b[1m./In[12]:29\u001b[22m\u001b[22m\n",
      " [4] \u001b[1m(::##3#4)\u001b[22m\u001b[22m\u001b[1m(\u001b[22m\u001b[22m::Float64\u001b[1m)\u001b[22m\u001b[22m at \u001b[1m./In[14]:6\u001b[22m\u001b[22m\n",
      " [5] \u001b[1m(::Base.#kw##map)\u001b[22m\u001b[22m\u001b[1m(\u001b[22m\u001b[22m::Array{Any,1}, ::Base.#map, ::Function, ::Reactive.Signal{Float64}\u001b[1m)\u001b[22m\u001b[22m at \u001b[1m./<missing>:0\u001b[22m\u001b[22m\n",
      " [6] \u001b[1minclude_string\u001b[22m\u001b[22m\u001b[1m(\u001b[22m\u001b[22m::String, ::String\u001b[1m)\u001b[22m\u001b[22m at \u001b[1m./loading.jl:522\u001b[22m\u001b[22m\n",
      " [7] \u001b[1minclude_string\u001b[22m\u001b[22m\u001b[1m(\u001b[22m\u001b[22m::Module, ::String, ::String\u001b[1m)\u001b[22m\u001b[22m at \u001b[1m/home/thanos/.julia/v0.6/Compat/src/Compat.jl:88\u001b[22m\u001b[22m\n",
      " [8] \u001b[1mexecute_request\u001b[22m\u001b[22m\u001b[1m(\u001b[22m\u001b[22m::ZMQ.Socket, ::IJulia.Msg\u001b[1m)\u001b[22m\u001b[22m at \u001b[1m/home/thanos/.julia/v0.6/IJulia/src/execute_request.jl:180\u001b[22m\u001b[22m\n",
      " [9] \u001b[1m(::Compat.#inner#14{Array{Any,1},IJulia.#execute_request,Tuple{ZMQ.Socket,IJulia.Msg}})\u001b[22m\u001b[22m\u001b[1m(\u001b[22m\u001b[22m\u001b[1m)\u001b[22m\u001b[22m at \u001b[1m/home/thanos/.julia/v0.6/Compat/src/Compat.jl:332\u001b[22m\u001b[22m\n",
      " [10] \u001b[1meventloop\u001b[22m\u001b[22m\u001b[1m(\u001b[22m\u001b[22m::ZMQ.Socket\u001b[1m)\u001b[22m\u001b[22m at \u001b[1m/home/thanos/.julia/v0.6/IJulia/src/eventloop.jl:8\u001b[22m\u001b[22m\n",
      " [11] \u001b[1m(::IJulia.##15#18)\u001b[22m\u001b[22m\u001b[1m(\u001b[22m\u001b[22m\u001b[1m)\u001b[22m\u001b[22m at \u001b[1m./task.jl:335\u001b[22m\u001b[22m\n",
      "while loading In[14], in expression starting on line 4\n",
      "\u001b[1m\u001b[33mWARNING: \u001b[39m\u001b[22m\u001b[33mhtml(value; label=\"\") is deprecated, use HTML(value) instead.\u001b[39m\n",
      "Stacktrace:\n",
      " [1] \u001b[1mdepwarn\u001b[22m\u001b[22m\u001b[1m(\u001b[22m\u001b[22m::String, ::Symbol\u001b[1m)\u001b[22m\u001b[22m at \u001b[1m./deprecated.jl:70\u001b[22m\u001b[22m\n",
      " [2] \u001b[1m#html#28\u001b[22m\u001b[22m\u001b[1m(\u001b[22m\u001b[22m::String, ::Function, ::String\u001b[1m)\u001b[22m\u001b[22m at \u001b[1m./deprecated.jl:57\u001b[22m\u001b[22m\n",
      " [3] \u001b[1mhtml\u001b[22m\u001b[22m\u001b[1m(\u001b[22m\u001b[22m::String\u001b[1m)\u001b[22m\u001b[22m at \u001b[1m./deprecated.jl:57\u001b[22m\u001b[22m\n",
      " [4] \u001b[1m(::##3#4)\u001b[22m\u001b[22m\u001b[1m(\u001b[22m\u001b[22m::Float64\u001b[1m)\u001b[22m\u001b[22m at \u001b[1m./In[14]:7\u001b[22m\u001b[22m\n",
      " [5] \u001b[1m(::Base.#kw##map)\u001b[22m\u001b[22m\u001b[1m(\u001b[22m\u001b[22m::Array{Any,1}, ::Base.#map, ::Function, ::Reactive.Signal{Float64}\u001b[1m)\u001b[22m\u001b[22m at \u001b[1m./<missing>:0\u001b[22m\u001b[22m\n",
      " [6] \u001b[1minclude_string\u001b[22m\u001b[22m\u001b[1m(\u001b[22m\u001b[22m::String, ::String\u001b[1m)\u001b[22m\u001b[22m at \u001b[1m./loading.jl:522\u001b[22m\u001b[22m\n",
      " [7] \u001b[1minclude_string\u001b[22m\u001b[22m\u001b[1m(\u001b[22m\u001b[22m::Module, ::String, ::String\u001b[1m)\u001b[22m\u001b[22m at \u001b[1m/home/thanos/.julia/v0.6/Compat/src/Compat.jl:88\u001b[22m\u001b[22m\n",
      " [8] \u001b[1mexecute_request\u001b[22m\u001b[22m\u001b[1m(\u001b[22m\u001b[22m::ZMQ.Socket, ::IJulia.Msg\u001b[1m)\u001b[22m\u001b[22m at \u001b[1m/home/thanos/.julia/v0.6/IJulia/src/execute_request.jl:180\u001b[22m\u001b[22m\n",
      " [9] \u001b[1m(::Compat.#inner#14{Array{Any,1},IJulia.#execute_request,Tuple{ZMQ.Socket,IJulia.Msg}})\u001b[22m\u001b[22m\u001b[1m(\u001b[22m\u001b[22m\u001b[1m)\u001b[22m\u001b[22m at \u001b[1m/home/thanos/.julia/v0.6/Compat/src/Compat.jl:332\u001b[22m\u001b[22m\n",
      " [10] \u001b[1meventloop\u001b[22m\u001b[22m\u001b[1m(\u001b[22m\u001b[22m::ZMQ.Socket\u001b[1m)\u001b[22m\u001b[22m at \u001b[1m/home/thanos/.julia/v0.6/IJulia/src/eventloop.jl:8\u001b[22m\u001b[22m\n",
      " [11] \u001b[1m(::IJulia.##15#18)\u001b[22m\u001b[22m\u001b[1m(\u001b[22m\u001b[22m\u001b[1m)\u001b[22m\u001b[22m at \u001b[1m./task.jl:335\u001b[22m\u001b[22m\n",
      "while loading In[14], in expression starting on line 4\n"
     ]
    }
   ],
   "source": [
    "# This cell uses the package Interact defined above. \n",
    "# In this cell we create a manipulator that solves the economic dispatch problem for different values of c_g1_scale.\n",
    "\n",
    "@manipulate for c_g1_scale = 0.5:0.01:3.0\n",
    "    c_g_scale = [c_g[1]*c_g1_scale, c_g[2]] # update the incremental cost of the first generator at every iteration\n",
    "    g_opt,w_opt,ws_opt,obj = solve_ed(g_max, g_min, c_g_scale, c_w, d, w_f) # solve the ed problem with the updated incremental cost\n",
    "    html(\"Dispatch of Generators, MW: $(g_opt[:])<br>\"*\n",
    "    \"Dispatch of Wind, MW: $w_opt<br>\"*\n",
    "    \"Spillage of Wind, MW: $ws_opt<br>\"*\n",
    "    \"Total cost, \\$: $obj\")\n",
    "end"
   ]
  },
  {
   "cell_type": "code",
   "execution_count": 18,
   "metadata": {},
   "outputs": [
    {
     "data": {
      "application/vnd.jupyter.widget-view+json": {
       "model_id": "bcbac407-0880-417a-ab9f-8bd82809cbad",
       "version_major": 2,
       "version_minor": 0
      }
     },
     "metadata": {},
     "output_type": "display_data"
    },
    {
     "data": {
      "text/html": [],
      "text/plain": [
       "Interact.Options{:SelectionSlider,Float64}(15: \"input-5\" = 2.2 Float64 , \"c_w_scale\", 2.2, \"2.2\", 13, Interact.OptionDict(DataStructures.OrderedDict(\"1.0\"=>1.0,\"1.1\"=>1.1,\"1.2\"=>1.2,\"1.3\"=>1.3,\"1.4\"=>1.4,\"1.5\"=>1.5,\"1.6\"=>1.6,\"1.7\"=>1.7,\"1.8\"=>1.8,\"1.9\"=>1.9…), Dict(3.4=>\"3.4\",1.2=>\"1.2\",2.8=>\"2.8\",2.0=>\"2.0\",1.5=>\"1.5\",2.2=>\"2.2\",2.1=>\"2.1\",1.4=>\"1.4\",3.5=>\"3.5\",2.6=>\"2.6\"…)), Any[], Any[], true, \"horizontal\", true)"
      ]
     },
     "metadata": {},
     "output_type": "display_data"
    },
    {
     "name": "stderr",
     "output_type": "stream",
     "text": [
      "\u001b[1m\u001b[33mWARNING: \u001b[39m\u001b[22m\u001b[33mgetValue is deprecated, use getvalue instead.\u001b[39m\n",
      "Stacktrace:\n",
      " [1] \u001b[1mdepwarn\u001b[22m\u001b[22m\u001b[1m(\u001b[22m\u001b[22m::String, ::Symbol\u001b[1m)\u001b[22m\u001b[22m at \u001b[1m./deprecated.jl:70\u001b[22m\u001b[22m\n",
      " [2] \u001b[1mgetValue\u001b[22m\u001b[22m\u001b[1m(\u001b[22m\u001b[22m::Array{JuMP.Variable,1}, ::Vararg{Array{JuMP.Variable,1},N} where N\u001b[1m)\u001b[22m\u001b[22m at \u001b[1m./deprecated.jl:31\u001b[22m\u001b[22m\n",
      " [3] \u001b[1msolve_ed\u001b[22m\u001b[22m\u001b[1m(\u001b[22m\u001b[22m::Array{Int64,1}, ::Array{Int64,1}, ::Array{Float64,2}, ::Float64, ::Int64, ::Int64\u001b[1m)\u001b[22m\u001b[22m at \u001b[1m./In[12]:29\u001b[22m\u001b[22m\n",
      " [4] \u001b[1mmacro expansion\u001b[22m\u001b[22m at \u001b[1m./In[18]:10\u001b[22m\u001b[22m [inlined]\n",
      " [5] \u001b[1mmacro expansion\u001b[22m\u001b[22m at \u001b[1m./util.jl:237\u001b[22m\u001b[22m [inlined]\n",
      " [6] \u001b[1m(::##9#10)\u001b[22m\u001b[22m\u001b[1m(\u001b[22m\u001b[22m::Float64\u001b[1m)\u001b[22m\u001b[22m at \u001b[1m./In[18]:8\u001b[22m\u001b[22m\n",
      " [7] \u001b[1m(::Base.#kw##map)\u001b[22m\u001b[22m\u001b[1m(\u001b[22m\u001b[22m::Array{Any,1}, ::Base.#map, ::Function, ::Reactive.Signal{Float64}\u001b[1m)\u001b[22m\u001b[22m at \u001b[1m./<missing>:0\u001b[22m\u001b[22m\n",
      " [8] \u001b[1minclude_string\u001b[22m\u001b[22m\u001b[1m(\u001b[22m\u001b[22m::String, ::String\u001b[1m)\u001b[22m\u001b[22m at \u001b[1m./loading.jl:522\u001b[22m\u001b[22m\n",
      " [9] \u001b[1minclude_string\u001b[22m\u001b[22m\u001b[1m(\u001b[22m\u001b[22m::Module, ::String, ::String\u001b[1m)\u001b[22m\u001b[22m at \u001b[1m/home/thanos/.julia/v0.6/Compat/src/Compat.jl:88\u001b[22m\u001b[22m\n",
      " [10] \u001b[1mexecute_request\u001b[22m\u001b[22m\u001b[1m(\u001b[22m\u001b[22m::ZMQ.Socket, ::IJulia.Msg\u001b[1m)\u001b[22m\u001b[22m at \u001b[1m/home/thanos/.julia/v0.6/IJulia/src/execute_request.jl:180\u001b[22m\u001b[22m\n",
      " [11] \u001b[1m(::Compat.#inner#14{Array{Any,1},IJulia.#execute_request,Tuple{ZMQ.Socket,IJulia.Msg}})\u001b[22m\u001b[22m\u001b[1m(\u001b[22m\u001b[22m\u001b[1m)\u001b[22m\u001b[22m at \u001b[1m/home/thanos/.julia/v0.6/Compat/src/Compat.jl:332\u001b[22m\u001b[22m\n",
      " [12] \u001b[1meventloop\u001b[22m\u001b[22m\u001b[1m(\u001b[22m\u001b[22m::ZMQ.Socket\u001b[1m)\u001b[22m\u001b[22m at \u001b[1m/home/thanos/.julia/v0.6/IJulia/src/eventloop.jl:8\u001b[22m\u001b[22m\n",
      " [13] \u001b[1m(::IJulia.##15#18)\u001b[22m\u001b[22m\u001b[1m(\u001b[22m\u001b[22m\u001b[1m)\u001b[22m\u001b[22m at \u001b[1m./task.jl:335\u001b[22m\u001b[22m\n",
      "while loading In[18], in expression starting on line 1\n"
     ]
    },
    {
     "ename": "LoadError",
     "evalue": "\u001b[91mTypeError: non-boolean (BitArray{1}) used in boolean context\u001b[39m",
     "output_type": "error",
     "traceback": [
      "\u001b[91mTypeError: non-boolean (BitArray{1}) used in boolean context\u001b[39m",
      "",
      "Stacktrace:",
      " [1] \u001b[1mapply_statistic_typed\u001b[22m\u001b[22m\u001b[1m(\u001b[22m\u001b[22m::Array{Float64,1}, ::Array{Float64,1}, ::Array{Array{Float64,1},1}, ::Array{Void,1}, ::Array{Void,1}\u001b[1m)\u001b[22m\u001b[22m at \u001b[1m/home/thanos/.julia/v0.6/Gadfly/src/statistics.jl:912\u001b[22m\u001b[22m",
      " [2] \u001b[1mapply_statistic\u001b[22m\u001b[22m\u001b[1m(\u001b[22m\u001b[22m::Gadfly.Stat.TickStatistic, ::Dict{Symbol,Gadfly.ScaleElement}, ::Gadfly.Coord.Cartesian, ::Gadfly.Aesthetics\u001b[1m)\u001b[22m\u001b[22m at \u001b[1m/home/thanos/.julia/v0.6/Gadfly/src/statistics.jl:775\u001b[22m\u001b[22m",
      " [3] \u001b[1mapply_statistics\u001b[22m\u001b[22m\u001b[1m(\u001b[22m\u001b[22m::Array{Gadfly.StatisticElement,1}, ::Dict{Symbol,Gadfly.ScaleElement}, ::Gadfly.Coord.Cartesian, ::Gadfly.Aesthetics\u001b[1m)\u001b[22m\u001b[22m at \u001b[1m/home/thanos/.julia/v0.6/Gadfly/src/statistics.jl:42\u001b[22m\u001b[22m",
      " [4] \u001b[1mrender_prepare\u001b[22m\u001b[22m\u001b[1m(\u001b[22m\u001b[22m::Gadfly.Plot\u001b[1m)\u001b[22m\u001b[22m at \u001b[1m/home/thanos/.julia/v0.6/Gadfly/src/Gadfly.jl:702\u001b[22m\u001b[22m",
      " [5] \u001b[1mrender\u001b[22m\u001b[22m\u001b[1m(\u001b[22m\u001b[22m::Gadfly.Plot\u001b[1m)\u001b[22m\u001b[22m at \u001b[1m/home/thanos/.julia/v0.6/Gadfly/src/Gadfly.jl:755\u001b[22m\u001b[22m",
      " [6] \u001b[1mcollect_to!\u001b[22m\u001b[22m\u001b[1m(\u001b[22m\u001b[22m::Array{Compose.Context,1}, ::Base.Generator{NTuple{4,Gadfly.Plot},Gadfly.##108#109}, ::Int64, ::Int64\u001b[1m)\u001b[22m\u001b[22m at \u001b[1m./array.jl:503\u001b[22m\u001b[22m",
      " [7] \u001b[1mcollect\u001b[22m\u001b[22m\u001b[1m(\u001b[22m\u001b[22m::Base.Generator{NTuple{4,Gadfly.Plot},Gadfly.##108#109}\u001b[1m)\u001b[22m\u001b[22m at \u001b[1m./array.jl:471\u001b[22m\u001b[22m",
      " [8] \u001b[1mvstack\u001b[22m\u001b[22m at \u001b[1m/home/thanos/.julia/v0.6/Gadfly/src/Gadfly.jl:903\u001b[22m\u001b[22m [inlined]",
      " [9] \u001b[1m(::##9#10)\u001b[22m\u001b[22m\u001b[1m(\u001b[22m\u001b[22m::Float64\u001b[1m)\u001b[22m\u001b[22m at \u001b[1m./In[18]:22\u001b[22m\u001b[22m",
      " [10] \u001b[1m(::Base.#kw##map)\u001b[22m\u001b[22m\u001b[1m(\u001b[22m\u001b[22m::Array{Any,1}, ::Base.#map, ::Function, ::Reactive.Signal{Float64}\u001b[1m)\u001b[22m\u001b[22m at \u001b[1m./<missing>:0\u001b[22m\u001b[22m",
      " [11] \u001b[1minclude_string\u001b[22m\u001b[22m\u001b[1m(\u001b[22m\u001b[22m::String, ::String\u001b[1m)\u001b[22m\u001b[22m at \u001b[1m./loading.jl:522\u001b[22m\u001b[22m"
     ]
    },
    {
     "name": "stdout",
     "output_type": "stream",
     "text": [
      "  0.368530 seconds (130.37 k allocations: 14.910 MiB, 1.72% gc time)\n"
     ]
    },
    {
     "name": "stderr",
     "output_type": "stream",
     "text": [
      "\u001b[1m\u001b[33mWARNING: \u001b[39m\u001b[22m\u001b[33misfinite(x::AbstractArray{T}) where T <: Number is deprecated, use isfinite.(x) instead.\u001b[39m\n",
      "Stacktrace:\n",
      " [1] \u001b[1mdepwarn\u001b[22m\u001b[22m\u001b[1m(\u001b[22m\u001b[22m::String, ::Symbol\u001b[1m)\u001b[22m\u001b[22m at \u001b[1m./deprecated.jl:70\u001b[22m\u001b[22m\n",
      " [2] \u001b[1misfinite\u001b[22m\u001b[22m\u001b[1m(\u001b[22m\u001b[22m::Array{Float64,1}\u001b[1m)\u001b[22m\u001b[22m at \u001b[1m./deprecated.jl:57\u001b[22m\u001b[22m\n",
      " [3] \u001b[1mapply_statistic_typed\u001b[22m\u001b[22m\u001b[1m(\u001b[22m\u001b[22m::Array{Float64,1}, ::Array{Float64,1}, ::Array{Array{Float64,1},1}, ::Array{Void,1}, ::Array{Void,1}\u001b[1m)\u001b[22m\u001b[22m at \u001b[1m/home/thanos/.julia/v0.6/Gadfly/src/statistics.jl:912\u001b[22m\u001b[22m\n",
      " [4] \u001b[1mapply_statistic\u001b[22m\u001b[22m\u001b[1m(\u001b[22m\u001b[22m::Gadfly.Stat.TickStatistic, ::Dict{Symbol,Gadfly.ScaleElement}, ::Gadfly.Coord.Cartesian, ::Gadfly.Aesthetics\u001b[1m)\u001b[22m\u001b[22m at \u001b[1m/home/thanos/.julia/v0.6/Gadfly/src/statistics.jl:775\u001b[22m\u001b[22m\n",
      " [5] \u001b[1mapply_statistics\u001b[22m\u001b[22m\u001b[1m(\u001b[22m\u001b[22m::Array{Gadfly.StatisticElement,1}, ::Dict{Symbol,Gadfly.ScaleElement}, ::Gadfly.Coord.Cartesian, ::Gadfly.Aesthetics\u001b[1m)\u001b[22m\u001b[22m at \u001b[1m/home/thanos/.julia/v0.6/Gadfly/src/statistics.jl:42\u001b[22m\u001b[22m\n",
      " [6] \u001b[1mrender_prepare\u001b[22m\u001b[22m\u001b[1m(\u001b[22m\u001b[22m::Gadfly.Plot\u001b[1m)\u001b[22m\u001b[22m at \u001b[1m/home/thanos/.julia/v0.6/Gadfly/src/Gadfly.jl:702\u001b[22m\u001b[22m\n",
      " [7] \u001b[1mrender\u001b[22m\u001b[22m\u001b[1m(\u001b[22m\u001b[22m::Gadfly.Plot\u001b[1m)\u001b[22m\u001b[22m at \u001b[1m/home/thanos/.julia/v0.6/Gadfly/src/Gadfly.jl:755\u001b[22m\u001b[22m\n",
      " [8] \u001b[1mcollect_to!\u001b[22m\u001b[22m\u001b[1m(\u001b[22m\u001b[22m::Array{Compose.Context,1}, ::Base.Generator{NTuple{4,Gadfly.Plot},Gadfly.##108#109}, ::Int64, ::Int64\u001b[1m)\u001b[22m\u001b[22m at \u001b[1m./array.jl:503\u001b[22m\u001b[22m\n",
      " [9] \u001b[1mcollect\u001b[22m\u001b[22m\u001b[1m(\u001b[22m\u001b[22m::Base.Generator{NTuple{4,Gadfly.Plot},Gadfly.##108#109}\u001b[1m)\u001b[22m\u001b[22m at \u001b[1m./array.jl:471\u001b[22m\u001b[22m\n",
      " [10] \u001b[1mvstack\u001b[22m\u001b[22m at \u001b[1m/home/thanos/.julia/v0.6/Gadfly/src/Gadfly.jl:903\u001b[22m\u001b[22m [inlined]\n",
      " [11] \u001b[1m(::##9#10)\u001b[22m\u001b[22m\u001b[1m(\u001b[22m\u001b[22m::Float64\u001b[1m)\u001b[22m\u001b[22m at \u001b[1m./In[18]:22\u001b[22m\u001b[22m\n",
      " [12] \u001b[1m(::Base.#kw##map)\u001b[22m\u001b[22m\u001b[1m(\u001b[22m\u001b[22m::Array{Any,1}, ::Base.#map, ::Function, ::Reactive.Signal{Float64}\u001b[1m)\u001b[22m\u001b[22m at \u001b[1m./<missing>:0\u001b[22m\u001b[22m\n",
      " [13] \u001b[1minclude_string\u001b[22m\u001b[22m\u001b[1m(\u001b[22m\u001b[22m::String, ::String\u001b[1m)\u001b[22m\u001b[22m at \u001b[1m./loading.jl:522\u001b[22m\u001b[22m\n",
      " [14] \u001b[1minclude_string\u001b[22m\u001b[22m\u001b[1m(\u001b[22m\u001b[22m::Module, ::String, ::String\u001b[1m)\u001b[22m\u001b[22m at \u001b[1m/home/thanos/.julia/v0.6/Compat/src/Compat.jl:88\u001b[22m\u001b[22m\n",
      " [15] \u001b[1mexecute_request\u001b[22m\u001b[22m\u001b[1m(\u001b[22m\u001b[22m::ZMQ.Socket, ::IJulia.Msg\u001b[1m)\u001b[22m\u001b[22m at \u001b[1m/home/thanos/.julia/v0.6/IJulia/src/execute_request.jl:180\u001b[22m\u001b[22m\n",
      " [16] \u001b[1m(::Compat.#inner#14{Array{Any,1},IJulia.#execute_request,Tuple{ZMQ.Socket,IJulia.Msg}})\u001b[22m\u001b[22m\u001b[1m(\u001b[22m\u001b[22m\u001b[1m)\u001b[22m\u001b[22m at \u001b[1m/home/thanos/.julia/v0.6/Compat/src/Compat.jl:332\u001b[22m\u001b[22m\n",
      " [17] \u001b[1meventloop\u001b[22m\u001b[22m\u001b[1m(\u001b[22m\u001b[22m::ZMQ.Socket\u001b[1m)\u001b[22m\u001b[22m at \u001b[1m/home/thanos/.julia/v0.6/IJulia/src/eventloop.jl:8\u001b[22m\u001b[22m\n",
      " [18] \u001b[1m(::IJulia.##15#18)\u001b[22m\u001b[22m\u001b[1m(\u001b[22m\u001b[22m\u001b[1m)\u001b[22m\u001b[22m at \u001b[1m./task.jl:335\u001b[22m\u001b[22m\n",
      "while loading In[18], in expression starting on line 1\n"
     ]
    }
   ],
   "source": [
    "@manipulate for c_w_scale = 1:0.1:3.5\n",
    "    # Define the vectors of outputs\n",
    "    obj_out = Float64[] \n",
    "    w_out = Float64[]\n",
    "    g1_out = Float64[]\n",
    "    g2_out = Float64[]\n",
    "    \n",
    "    @time for c_g1_scale = 0.5:0.01:3.0\n",
    "        c_g_scale = [c_g[1]*c_g1_scale  c_g[2]] # update the incremental cost of the first generator at every iteration\n",
    "        g_opt,w_opt,ws_opt,obj = solve_ed(g_max, g_min, c_g_scale, c_w_scale*c_w, d, w_f) # solve the ed problem with the updated incremental cost\n",
    "        # Add the solution of the economic dispatch problem to the respective vectors\n",
    "        push!(obj_out,obj)\n",
    "        push!(w_out,w_opt)\n",
    "        push!(g1_out,g_opt[1])\n",
    "        push!(g2_out,g_opt[2])\n",
    "    end\n",
    "    \n",
    "    # Plot the outputs\n",
    "    # Define the size of the plots\n",
    "    set_default_plot_size(16cm, 30cm)\n",
    "    \n",
    "    vstack(\n",
    "    # Plot the total cost\n",
    "    plot(x=0.5:0.01:3.0,y=obj_out, Geom.line,\n",
    "    Guide.XLabel(\"c_g1_scale\"), Guide.YLabel(\"Total cost, \\$\"),\n",
    "    Scale.y_continuous(minvalue=50000, maxvalue=200000)),\n",
    "    # Plot the power output of Generator 1\n",
    "    plot(x=0.5:0.01:3.0,y=[g1_out], Geom.line,\n",
    "    Guide.XLabel(\"c_g1_scale\"), Guide.YLabel(\"Dispatch of  G1, MW\"),\n",
    "    Scale.y_continuous(minvalue=0, maxvalue=1100)),\n",
    "    # Plot the power output of Generator 2    \n",
    "    plot(x=0.5:0.01:3.0,y=[g2_out], Geom.line,\n",
    "    Guide.XLabel(\"c_g1_scale\"), Guide.YLabel(\"Dispatch of  G2, MW\"),\n",
    "    Scale.y_continuous(minvalue=0, maxvalue=1600)),\n",
    "    # Plot the wind power output\n",
    "    plot(x=0.5:0.01:3.0,y=[w_out], Geom.line,\n",
    "    Guide.XLabel(\"c_g1_scale\"), Guide.YLabel(\"Dispatch of Wind, MW\"),\n",
    "    Scale.y_continuous(minvalue=0, maxvalue=250))\n",
    "    )\n",
    "end"
   ]
  }
 ],
 "metadata": {
  "kernelspec": {
   "display_name": "Julia 0.6.3",
   "language": "julia",
   "name": "julia-0.6"
  },
  "language_info": {
   "file_extension": ".jl",
   "mimetype": "application/julia",
   "name": "julia",
   "version": "0.6.3"
  }
 },
 "nbformat": 4,
 "nbformat_minor": 2
}
