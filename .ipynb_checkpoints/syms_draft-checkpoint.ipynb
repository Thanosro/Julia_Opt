{
 "cells": [
  {
   "cell_type": "code",
   "execution_count": 3,
   "metadata": {},
   "outputs": [
    {
     "data": {
      "text/plain": [
       "(x1, x2, x3, x4, x5)"
      ]
     },
     "execution_count": 3,
     "metadata": {},
     "output_type": "execute_result"
    }
   ],
   "source": [
    "using SymPy\n",
    "x = Sym(\"x\")\n",
    "@vars x1 x2 x3 x4 x5"
   ]
  },
  {
   "cell_type": "code",
   "execution_count": 5,
   "metadata": {},
   "outputs": [
    {
     "data": {
      "text/latex": [
       "\\begin{bmatrix}x_{1}\\\\x_{2}\\\\x_{3}\\\\x_{4}\\\\x_{5}\\end{bmatrix}"
      ],
      "text/plain": [
       "5×1 Array{SymPy.Sym,2}:\n",
       " x1\n",
       " x2\n",
       " x3\n",
       " x4\n",
       " x5"
      ]
     },
     "execution_count": 5,
     "metadata": {},
     "output_type": "execute_result"
    }
   ],
   "source": [
    "x_v = [x1 x2 x3 x4 x5].'"
   ]
  },
  {
   "cell_type": "code",
   "execution_count": 15,
   "metadata": {},
   "outputs": [
    {
     "data": {
      "text/plain": [
       "5×5 LowerTriangular{Float64,Array{Float64,2}}:\n",
       " 1.0   ⋅    ⋅    ⋅    ⋅ \n",
       " 1.0  1.0   ⋅    ⋅    ⋅ \n",
       " 1.0  1.0  1.0   ⋅    ⋅ \n",
       " 1.0  1.0  1.0  1.0   ⋅ \n",
       " 1.0  1.0  1.0  1.0  1.0"
      ]
     },
     "execution_count": 15,
     "metadata": {},
     "output_type": "execute_result"
    }
   ],
   "source": [
    "A = ones((5,5))\n",
    "At = LowerTriangular(A)"
   ]
  },
  {
   "cell_type": "code",
   "execution_count": 16,
   "metadata": {},
   "outputs": [
    {
     "data": {
      "text/latex": [
       "\\begin{bmatrix}1.0 x_{1}\\\\1.0 x_{1} + 1.0 x_{2}\\\\1.0 x_{1} + 1.0 x_{2} + 1.0 x_{3}\\\\1.0 x_{1} + 1.0 x_{2} + 1.0 x_{3} + 1.0 x_{4}\\\\1.0 x_{1} + 1.0 x_{2} + 1.0 x_{3} + 1.0 x_{4} + 1.0 x_{5}\\end{bmatrix}"
      ],
      "text/plain": [
       "5×1 Array{SymPy.Sym,2}:\n",
       "                                     1.0*x1\n",
       "                            1.0*x1 + 1.0*x2\n",
       "                   1.0*x1 + 1.0*x2 + 1.0*x3\n",
       "          1.0*x1 + 1.0*x2 + 1.0*x3 + 1.0*x4\n",
       " 1.0*x1 + 1.0*x2 + 1.0*x3 + 1.0*x4 + 1.0*x5"
      ]
     },
     "execution_count": 16,
     "metadata": {},
     "output_type": "execute_result"
    },
    {
     "name": "stdout",
     "output_type": "stream",
     "text": [
      "At * x_v = SymPy.Sym[1.0*x1; 1.0*x1 + 1.0*x2; 1.0*x1 + 1.0*x2 + 1.0*x3; 1.0*x1 + 1.0*x2 + 1.0*x3 + 1.0*x4; 1.0*x1 + 1.0*x2 + 1.0*x3 + 1.0*x4 + 1.0*x5]\n"
     ]
    }
   ],
   "source": [
    "@show At*x_v"
   ]
  }
 ],
 "metadata": {
  "kernelspec": {
   "display_name": "Julia 0.6.3",
   "language": "julia",
   "name": "julia-0.6"
  },
  "language_info": {
   "file_extension": ".jl",
   "mimetype": "application/julia",
   "name": "julia",
   "version": "0.6.3"
  }
 },
 "nbformat": 4,
 "nbformat_minor": 2
}
