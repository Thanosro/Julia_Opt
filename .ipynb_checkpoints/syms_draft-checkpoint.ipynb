{
 "cells": [
  {
   "cell_type": "code",
   "execution_count": 1,
   "metadata": {},
   "outputs": [
    {
     "data": {
      "text/plain": [
       "(x1, x2, x3, x4, x5)"
      ]
     },
     "execution_count": 1,
     "metadata": {},
     "output_type": "execute_result"
    }
   ],
   "source": [
    "using SymPy\n",
    "x = Sym(\"x\")\n",
    "@vars x1 x2 x3 x4 x5"
   ]
  },
  {
   "cell_type": "code",
   "execution_count": 2,
   "metadata": {},
   "outputs": [
    {
     "data": {
      "text/latex": [
       "\\begin{bmatrix}x_{1}\\\\x_{2}\\\\x_{3}\\\\x_{4}\\\\x_{5}\\end{bmatrix}"
      ],
      "text/plain": [
       "5×1 Array{SymPy.Sym,2}:\n",
       " x1\n",
       " x2\n",
       " x3\n",
       " x4\n",
       " x5"
      ]
     },
     "execution_count": 2,
     "metadata": {},
     "output_type": "execute_result"
    }
   ],
   "source": [
    "x_v = [x1 x2 x3 x4 x5].'"
   ]
  },
  {
   "cell_type": "code",
   "execution_count": 3,
   "metadata": {},
   "outputs": [
    {
     "data": {
      "text/plain": [
       "5×5 LowerTriangular{Float64,Array{Float64,2}}:\n",
       " 1.0   ⋅    ⋅    ⋅    ⋅ \n",
       " 1.0  1.0   ⋅    ⋅    ⋅ \n",
       " 1.0  1.0  1.0   ⋅    ⋅ \n",
       " 1.0  1.0  1.0  1.0   ⋅ \n",
       " 1.0  1.0  1.0  1.0  1.0"
      ]
     },
     "execution_count": 3,
     "metadata": {},
     "output_type": "execute_result"
    }
   ],
   "source": [
    "A = ones((5,5))\n",
    "At = LowerTriangular(ones((5,5)))"
   ]
  },
  {
   "cell_type": "code",
   "execution_count": 16,
   "metadata": {},
   "outputs": [
    {
     "name": "stdout",
     "output_type": "stream",
     "text": [
      "At[i, :] = [1.0, 0.0, 0.0, 0.0, 0.0]\n",
      "At[i, :] = [1.0, 1.0, 0.0, 0.0, 0.0]\n",
      "At[i, :] = [1.0, 1.0, 1.0, 0.0, 0.0]\n",
      "At[i, :] = [1.0, 1.0, 1.0, 1.0, 0.0]\n",
      "At[i, :] = [1.0, 1.0, 1.0, 1.0, 1.0]\n"
     ]
    }
   ],
   "source": [
    "for i in 1:5\n",
    "    @show At[i,:]\n",
    "#     @show size( At[i,:])\n",
    "end"
   ]
  },
  {
   "cell_type": "code",
   "execution_count": 4,
   "metadata": {},
   "outputs": [
    {
     "ename": "LoadError",
     "evalue": "\u001b[91mno promotion exists for Float64 and SymPy.Sym\u001b[39m",
     "output_type": "error",
     "traceback": [
      "\u001b[91mno promotion exists for Float64 and SymPy.Sym\u001b[39m",
      "",
      "Stacktrace:",
      " [1] \u001b[1mpromote_type\u001b[22m\u001b[22m\u001b[1m(\u001b[22m\u001b[22m::Type{Float64}, ::Type{SymPy.Sym}\u001b[1m)\u001b[22m\u001b[22m at \u001b[1m./promotion.jl:161\u001b[22m\u001b[22m",
      " [2] \u001b[1mpromote\u001b[22m\u001b[22m at \u001b[1m./promotion.jl:175\u001b[22m\u001b[22m [inlined]",
      " [3] \u001b[1m*\u001b[22m\u001b[22m at \u001b[1m./promotion.jl:250\u001b[22m\u001b[22m [inlined]",
      " [4] \u001b[1m*\u001b[22m\u001b[22m\u001b[1m(\u001b[22m\u001b[22m::LowerTriangular{Float64,Array{Float64,2}}, ::Array{SymPy.Sym,2}\u001b[1m)\u001b[22m\u001b[22m at \u001b[1m./linalg/triangular.jl:1602\u001b[22m\u001b[22m",
      " [5] \u001b[1minclude_string\u001b[22m\u001b[22m\u001b[1m(\u001b[22m\u001b[22m::String, ::String\u001b[1m)\u001b[22m\u001b[22m at \u001b[1m./loading.jl:522\u001b[22m\u001b[22m"
     ]
    }
   ],
   "source": [
    "@show At*x_v"
   ]
  },
  {
   "cell_type": "code",
   "execution_count": 6,
   "metadata": {},
   "outputs": [
    {
     "data": {
      "text/plain": [
       "2×1 Array{Float64,2}:\n",
       " 50.0\n",
       " 50.0"
      ]
     },
     "execution_count": 6,
     "metadata": {},
     "output_type": "execute_result"
    }
   ],
   "source": [
    "50*ones((2,1))"
   ]
  }
 ],
 "metadata": {
  "kernelspec": {
   "display_name": "Julia 0.6.3",
   "language": "julia",
   "name": "julia-0.6"
  },
  "language_info": {
   "file_extension": ".jl",
   "mimetype": "application/julia",
   "name": "julia",
   "version": "0.6.3"
  }
 },
 "nbformat": 4,
 "nbformat_minor": 2
}
