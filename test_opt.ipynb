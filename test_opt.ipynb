{
 "cells": [
  {
   "cell_type": "code",
   "execution_count": null,
   "metadata": {
    "collapsed": true
   },
   "outputs": [],
   "source": [
    "#using Cairo\n",
    "using GraphPlot\n",
    "#using Compose"
   ]
  },
  {
   "cell_type": "code",
   "execution_count": null,
   "metadata": {},
   "outputs": [],
   "source": [
    "g = graphfamous(\"karate\")"
   ]
  },
  {
   "cell_type": "code",
   "execution_count": null,
   "metadata": {},
   "outputs": [],
   "source": [
    "gplot(g)"
   ]
  },
  {
   "cell_type": "code",
   "execution_count": null,
   "metadata": {},
   "outputs": [],
   "source": [
    "X = rand(2,1,2)\n",
    "# @show X\n",
    "print(X)\n",
    "# @time sum(X, 2)\n",
    "# @show X\n",
    "@show sum(X, 1)\n",
    "@show sum(X,2)\n",
    "@show sum(X,3)"
   ]
  },
  {
   "cell_type": "code",
   "execution_count": null,
   "metadata": {},
   "outputs": [],
   "source": [
    "using JuMP\n",
    "using Clp\n",
    "\n",
    "# Preparing an optimization model\n",
    "m = Model(solver=ClpSolver())\n",
    "\n",
    "# Declaring variables\n",
    "@variable(m, 0<= x1 <=10)\n",
    "@variable(m, x2 >=0)\n",
    "@variable(m, x3 >=0)\n",
    "# integer constraint\n",
    "#@variable(m, x3 >=0, Int)\n",
    "# Setting the objective\n",
    "@objective(m, Max, x1 + 2x2 + 5x3)\n",
    "\n",
    "# Adding constraints\n",
    "@constraint(m, constraint1, -x1 +  x2 + 3x3 <= -5)\n",
    "@constraint(m, constraint2,  x1 + 3x2 - 7x3 <= 10)\n",
    "\n",
    "# Printing the prepared optimization model\n",
    "print(m)\n",
    "tic();\n",
    "# Solving the optimization problem\n",
    "solve(m)\n",
    "toc()\n",
    "#getsolvetime(m::Model)\n",
    "# Printing the optimal solutions obtained\n",
    "println(\"Optimal Solutions:\")\n",
    "println(\"x1 = \", getvalue(x1))\n",
    "println(\"x2 = \", getvalue(x2))\n",
    "println(\"x3 = \", getvalue(x3))\n",
    "\n",
    "# Printing the optimal dual variables\n",
    "println(\"Dual Variables:\")\n",
    "println(\"dual1 = \", getdual(constraint1))\n",
    "println(\"dual2 = \", getdual(constraint2))"
   ]
  },
  {
   "cell_type": "code",
   "execution_count": null,
   "metadata": {},
   "outputs": [],
   "source": [
    "using JuMP\n",
    "myModel = Model()"
   ]
  },
  {
   "cell_type": "code",
   "execution_count": null,
   "metadata": {},
   "outputs": [],
   "source": [
    "n = 10;\n",
    "l = collect(1:1:n)\n",
    "u = collect(n:1:2*n-1)"
   ]
  },
  {
   "cell_type": "code",
   "execution_count": null,
   "metadata": {},
   "outputs": [],
   "source": [
    "x1 = @variable(myModel, l[i] <= x1[i=1:n] <= u[i])\n",
    "@show x1"
   ]
  },
  {
   "cell_type": "code",
   "execution_count": null,
   "metadata": {},
   "outputs": [],
   "source": [
    "#@objective(myModel,Min,3x)\n",
    "print(myModel)"
   ]
  },
  {
   "cell_type": "code",
   "execution_count": 17,
   "metadata": {},
   "outputs": [
    {
     "data": {
      "text/plain": [
       "Array{Int64,1}"
      ]
     },
     "execution_count": 17,
     "metadata": {},
     "output_type": "execute_result"
    }
   ],
   "source": [
    "Lt = collect(1:24);\n",
    "E_i = 5\n",
    "Csum = LowerTriangular(ones((24,24)))\n",
    "Lt |> typeof"
   ]
  },
  {
   "cell_type": "code",
   "execution_count": 22,
   "metadata": {},
   "outputs": [
    {
     "name": "stderr",
     "output_type": "stream",
     "text": [
      "\u001b[1m\u001b[36mINFO: \u001b[39m\u001b[22m\u001b[36mPrecompiling module MAT.\n",
      "\u001b[39m"
     ]
    }
   ],
   "source": [
    "using JuMP\n",
    "using Clp\n",
    "using MAT"
   ]
  },
  {
   "cell_type": "code",
   "execution_count": 56,
   "metadata": {},
   "outputs": [],
   "source": [
    "file = matopen(\"month_data.mat\")\n",
    "# shows the file contents\n",
    "varnames = names(file)\n",
    "# loads the variable\n",
    "Lt_month = read(file, \"monthly_norm_data\")\n",
    "#  prints the contents of the file (if file contains string str1)\n",
    "# print(read(file, \"str1\"))"
   ]
  },
  {
   "cell_type": "code",
   "execution_count": 74,
   "metadata": {},
   "outputs": [],
   "source": [
    "# access dictionary data\n",
    "Lt = Lt_month[\"Aug\"][1:24,10];"
   ]
  },
  {
   "cell_type": "code",
   "execution_count": 75,
   "metadata": {},
   "outputs": [
    {
     "data": {
      "application/vnd.plotly.v1+json": {
       "data": [
        {
         "colorbar": {
          "title": ""
         },
         "hoverinfo": "text",
         "legendgroup": "y1",
         "line": {
          "color": "rgba(0, 154, 250, 1.000)",
          "dash": "solid",
          "shape": "linear",
          "width": 2
         },
         "mode": "lines",
         "name": "y1",
         "showlegend": true,
         "text": [
          null,
          null,
          null,
          null,
          null,
          null,
          null,
          null,
          null,
          null,
          null,
          null,
          null,
          null,
          null,
          null,
          null,
          null,
          null,
          null,
          null,
          null,
          null,
          null
         ],
         "type": "scatter",
         "x": [
          1,
          2,
          3,
          4,
          5,
          6,
          7,
          8,
          9,
          10,
          11,
          12,
          13,
          14,
          15,
          16,
          17,
          18,
          19,
          20,
          21,
          22,
          23,
          24
         ],
         "xaxis": "x1",
         "y": [
          0.5939727163854824,
          0.5602323439125502,
          0.5363976998159551,
          0.5241407055588391,
          0.5313292107601616,
          0.5579180490439705,
          0.5862627656945508,
          0.6184703719067791,
          0.6553587430788264,
          0.6867057298142797,
          0.7182932020630768,
          0.7505491038017387,
          0.7884694537518641,
          0.840530915553057,
          0.889381963790628,
          0.9188351730575486,
          0.929294287329306,
          0.9156757797421937,
          0.9009320161926021,
          0.8828366147807086,
          0.8741395086153988,
          0.8291541668243333,
          0.7579621780079517,
          0.6876355540553086
         ],
         "yaxis": "y1"
        }
       ],
       "layout": {
        "annotations": [
         {
          "font": {
           "color": "rgba(0, 0, 0, 1.000)",
           "family": "sans-serif",
           "size": 20
          },
          "rotation": 0,
          "showarrow": false,
          "text": "Daily Load",
          "x": 0.5349537037037038,
          "xanchor": "center",
          "xref": "paper",
          "y": 1,
          "yanchor": "top",
          "yref": "paper"
         }
        ],
        "height": 400,
        "legend": {
         "bgcolor": "rgba(255, 255, 255, 1.000)",
         "bordercolor": "rgba(0, 0, 0, 1.000)",
         "font": {
          "color": "rgba(0, 0, 0, 1.000)",
          "family": "sans-serif",
          "size": 11
         },
         "tracegroupgap": 0,
         "x": 1,
         "y": 1
        },
        "margin": {
         "b": 20,
         "l": 0,
         "r": 0,
         "t": 20
        },
        "paper_bgcolor": "rgba(255, 255, 255, 1.000)",
        "plot_bgcolor": "rgba(255, 255, 255, 1.000)",
        "showlegend": true,
        "width": 600,
        "xaxis": {
         "anchor": "y1",
         "domain": [
          0.07646908719743364,
          0.9934383202099737
         ],
         "gridcolor": "rgba(0, 0, 0, 0.100)",
         "gridwidth": 0.5,
         "linecolor": "rgba(0, 0, 0, 1.000)",
         "mirror": false,
         "range": [
          0.31000000000000005,
          24.69
         ],
         "showgrid": true,
         "showline": true,
         "showticklabels": true,
         "tickangle": 0,
         "tickcolor": "rgb(0, 0, 0)",
         "tickfont": {
          "color": "rgba(0, 0, 0, 1.000)",
          "family": "sans-serif",
          "size": 11
         },
         "tickmode": "array",
         "ticks": "inside",
         "ticktext": [
          "5",
          "10",
          "15",
          "20"
         ],
         "tickvals": [
          5,
          10,
          15,
          20
         ],
         "title": "Hours",
         "titlefont": {
          "color": "rgba(0, 0, 0, 1.000)",
          "family": "sans-serif",
          "size": 15
         },
         "type": "-",
         "visible": true,
         "zeroline": false,
         "zerolinecolor": "rgba(0, 0, 0, 1.000)"
        },
        "yaxis": {
         "anchor": "x1",
         "domain": [
          0.07581474190726165,
          0.9415463692038496
         ],
         "gridcolor": "rgba(0, 0, 0, 0.100)",
         "gridwidth": 0.5,
         "linecolor": "rgba(0, 0, 0, 1.000)",
         "mirror": false,
         "range": [
          0.511986098105725,
          0.94144889478242
         ],
         "showgrid": true,
         "showline": true,
         "showticklabels": true,
         "tickangle": 0,
         "tickcolor": "rgb(0, 0, 0)",
         "tickfont": {
          "color": "rgba(0, 0, 0, 1.000)",
          "family": "sans-serif",
          "size": 11
         },
         "tickmode": "array",
         "ticks": "inside",
         "ticktext": [
          "0.6",
          "0.7",
          "0.8",
          "0.9"
         ],
         "tickvals": [
          0.6000000000000001,
          0.7000000000000001,
          0.8,
          0.9
         ],
         "title": "Load (MW)",
         "titlefont": {
          "color": "rgba(0, 0, 0, 1.000)",
          "family": "sans-serif",
          "size": 15
         },
         "type": "-",
         "visible": true,
         "zeroline": false,
         "zerolinecolor": "rgba(0, 0, 0, 1.000)"
        }
       }
      },
      "text/html": [
       "<script src=\"file:///home/thanos/.julia/v0.6/Plots/src/backends/../../deps/plotly-latest.min.js\"></script>    <div id=\"14aa6e1e-8c94-4c48-9e20-0e35380e4180\" style=\"width:600px;height:400px;\"></div>\n",
       "    <script>\n",
       "    PLOT = document.getElementById('14aa6e1e-8c94-4c48-9e20-0e35380e4180');\n",
       "    Plotly.plot(PLOT, [{\"xaxis\":\"x1\",\"colorbar\":{\"title\":\"\"},\"yaxis\":\"y1\",\"text\":[null,null,null,null,null,null,null,null,null,null,null,null,null,null,null,null,null,null,null,null,null,null,null,null],\"x\":[1,2,3,4,5,6,7,8,9,10,11,12,13,14,15,16,17,18,19,20,21,22,23,24],\"showlegend\":true,\"mode\":\"lines\",\"name\":\"y1\",\"legendgroup\":\"y1\",\"line\":{\"color\":\"rgba(0, 154, 250, 1.000)\",\"shape\":\"linear\",\"dash\":\"solid\",\"width\":2},\"y\":[0.5939727163854824,0.5602323439125502,0.5363976998159551,0.5241407055588391,0.5313292107601616,0.5579180490439705,0.5862627656945508,0.6184703719067791,0.6553587430788264,0.6867057298142797,0.7182932020630768,0.7505491038017387,0.7884694537518641,0.840530915553057,0.889381963790628,0.9188351730575486,0.929294287329306,0.9156757797421937,0.9009320161926021,0.8828366147807086,0.8741395086153988,0.8291541668243333,0.7579621780079517,0.6876355540553086],\"type\":\"scatter\",\"hoverinfo\":\"text\"}], {\"showlegend\":true,\"xaxis\":{\"showticklabels\":true,\"gridwidth\":0.5,\"tickvals\":[5.0,10.0,15.0,20.0],\"visible\":true,\"ticks\":\"inside\",\"range\":[0.31000000000000005,24.69],\"domain\":[0.07646908719743364,0.9934383202099737],\"tickmode\":\"array\",\"linecolor\":\"rgba(0, 0, 0, 1.000)\",\"showgrid\":true,\"title\":\"Hours\",\"mirror\":false,\"tickangle\":0,\"showline\":true,\"gridcolor\":\"rgba(0, 0, 0, 0.100)\",\"titlefont\":{\"color\":\"rgba(0, 0, 0, 1.000)\",\"family\":\"sans-serif\",\"size\":15},\"tickcolor\":\"rgb(0, 0, 0)\",\"ticktext\":[\"5\",\"10\",\"15\",\"20\"],\"zeroline\":false,\"type\":\"-\",\"tickfont\":{\"color\":\"rgba(0, 0, 0, 1.000)\",\"family\":\"sans-serif\",\"size\":11},\"zerolinecolor\":\"rgba(0, 0, 0, 1.000)\",\"anchor\":\"y1\"},\"paper_bgcolor\":\"rgba(255, 255, 255, 1.000)\",\"annotations\":[{\"yanchor\":\"top\",\"xanchor\":\"center\",\"rotation\":-0.0,\"y\":1.0,\"font\":{\"color\":\"rgba(0, 0, 0, 1.000)\",\"family\":\"sans-serif\",\"size\":20},\"yref\":\"paper\",\"showarrow\":false,\"text\":\"Daily Load\",\"xref\":\"paper\",\"x\":0.5349537037037038}],\"height\":400,\"margin\":{\"l\":0,\"b\":20,\"r\":0,\"t\":20},\"plot_bgcolor\":\"rgba(255, 255, 255, 1.000)\",\"yaxis\":{\"showticklabels\":true,\"gridwidth\":0.5,\"tickvals\":[0.6000000000000001,0.7000000000000001,0.8,0.9],\"visible\":true,\"ticks\":\"inside\",\"range\":[0.511986098105725,0.94144889478242],\"domain\":[0.07581474190726165,0.9415463692038496],\"tickmode\":\"array\",\"linecolor\":\"rgba(0, 0, 0, 1.000)\",\"showgrid\":true,\"title\":\"Load (MW)\",\"mirror\":false,\"tickangle\":0,\"showline\":true,\"gridcolor\":\"rgba(0, 0, 0, 0.100)\",\"titlefont\":{\"color\":\"rgba(0, 0, 0, 1.000)\",\"family\":\"sans-serif\",\"size\":15},\"tickcolor\":\"rgb(0, 0, 0)\",\"ticktext\":[\"0.6\",\"0.7\",\"0.8\",\"0.9\"],\"zeroline\":false,\"type\":\"-\",\"tickfont\":{\"color\":\"rgba(0, 0, 0, 1.000)\",\"family\":\"sans-serif\",\"size\":11},\"zerolinecolor\":\"rgba(0, 0, 0, 1.000)\",\"anchor\":\"x1\"},\"legend\":{\"tracegroupgap\":0,\"bordercolor\":\"rgba(0, 0, 0, 1.000)\",\"bgcolor\":\"rgba(255, 255, 255, 1.000)\",\"font\":{\"color\":\"rgba(0, 0, 0, 1.000)\",\"family\":\"sans-serif\",\"size\":11},\"y\":1.0,\"x\":1.0},\"width\":600});\n",
       "    </script>\n"
      ]
     },
     "execution_count": 75,
     "metadata": {},
     "output_type": "execute_result"
    }
   ],
   "source": [
    "using Plots\n",
    "plotly() \n",
    "plot(Lt,linewidth=2,title=\"Daily Load\")\n",
    "yaxis!(\"Load (MW)\")\n",
    "xaxis!(\"Hours\")"
   ]
  },
  {
   "cell_type": "code",
   "execution_count": 38,
   "metadata": {},
   "outputs": [
    {
     "data": {
      "text/plain": [
       "Dict{String,Any}"
      ]
     },
     "execution_count": 38,
     "metadata": {},
     "output_type": "execute_result"
    }
   ],
   "source": [
    "Lt_month |> typeof"
   ]
  },
  {
   "cell_type": "code",
   "execution_count": 58,
   "metadata": {},
   "outputs": [
    {
     "data": {
      "text/latex": [
       "$$ \\begin{alignat*}{1}\\min\\quad & 0\\\\\n",
       "\\text{Subject to} \\quad\\end{alignat*}\n",
       " $$"
      ],
      "text/plain": [
       "Feasibility problem with:\n",
       " * 0 linear constraints\n",
       " * 0 variables\n",
       "Solver is ClpMathProg"
      ]
     },
     "execution_count": 58,
     "metadata": {},
     "output_type": "execute_result"
    }
   ],
   "source": [
    "duck_curve = Model(solver = ClpSolver())"
   ]
  },
  {
   "cell_type": "code",
   "execution_count": 69,
   "metadata": {},
   "outputs": [
    {
     "ename": "LoadError",
     "evalue": "\u001b[91mMethodError: Cannot `convert` an object of type JuMP.GenericQuadExpr{Float64,JuMP.Variable} to an object of type JuMP.GenericAffExpr{Float64,JuMP.Variable}\nThis may have arisen from a call to the constructor JuMP.GenericAffExpr{Float64,JuMP.Variable}(...),\nsince type constructors fall back to convert methods.\u001b[39m",
     "output_type": "error",
     "traceback": [
      "\u001b[91mMethodError: Cannot `convert` an object of type JuMP.GenericQuadExpr{Float64,JuMP.Variable} to an object of type JuMP.GenericAffExpr{Float64,JuMP.Variable}\nThis may have arisen from a call to the constructor JuMP.GenericAffExpr{Float64,JuMP.Variable}(...),\nsince type constructors fall back to convert methods.\u001b[39m",
      "",
      "Stacktrace:",
      " [1] \u001b[1mA_mul_B!\u001b[22m\u001b[22m\u001b[1m(\u001b[22m\u001b[22m::LowerTriangular{JuMP.GenericAffExpr{Float64,JuMP.Variable},Array{JuMP.GenericAffExpr{Float64,JuMP.Variable},2}}, ::Array{JuMP.GenericAffExpr{Float64,JuMP.Variable},1}\u001b[1m)\u001b[22m\u001b[22m at \u001b[1m./linalg/triangular.jl:665\u001b[22m\u001b[22m",
      " [2] \u001b[1m*\u001b[22m\u001b[22m\u001b[1m(\u001b[22m\u001b[22m::LowerTriangular{Float64,Array{Float64,2}}, ::Array{JuMP.Variable,1}\u001b[1m)\u001b[22m\u001b[22m at \u001b[1m./linalg/triangular.jl:1605\u001b[22m\u001b[22m",
      " [3] \u001b[1maddtoexpr_reorder\u001b[22m\u001b[22m\u001b[1m(\u001b[22m\u001b[22m::JuMP.GenericAffExpr{Float64,JuMP.Variable}, ::LowerTriangular{Float64,Array{Float64,2}}, ::Array{JuMP.Variable,1}\u001b[1m)\u001b[22m\u001b[22m at \u001b[1m/home/thanos/.julia/v0.6/JuMP/src/parseExpr_staged.jl:280\u001b[22m\u001b[22m"
     ]
    },
    {
     "name": "stderr",
     "output_type": "stream",
     "text": [
      "\u001b[1m\u001b[33mWARNING: \u001b[39m\u001b[22m\u001b[33mA variable or constraint named totld is already attached to this model. If creating variables programmatically, use the anonymous variable syntax x = @variable(m, [1:N], ...).\u001b[39m\n",
      "\u001b[1m\u001b[33mWARNING: \u001b[39m\u001b[22m\u001b[33mA variable or constraint named b is already attached to this model. If creating variables programmatically, use the anonymous variable syntax x = @variable(m, [1:N], ...).\u001b[39m\n",
      "\u001b[1m\u001b[33mWARNING: \u001b[39m\u001b[22m\u001b[33mA variable or constraint named epsilon is already attached to this model. If creating variables programmatically, use the anonymous variable syntax x = @variable(m, [1:N], ...).\u001b[39m\n",
      "\u001b[1m\u001b[33mWARNING: \u001b[39m\u001b[22m\u001b[33mA variable or constraint named tim is already attached to this model. If creating constraints programmatically, use the anonymous constraint syntax con = @constraint(m, ...).\u001b[39m\n"
     ]
    }
   ],
   "source": [
    "@variable(duck_curve,totld[t=1:24])\n",
    "@variable(duck_curve,b[t = 1:24])\n",
    "@variable(duck_curve, epsilon)\n",
    "# constraint for the gradient\n",
    "@constraint(duck_curve, tim[ti = 2:24],  totld[ti] - totld[ti-1] <= epsilon)\n",
    "# total load = Load - battery\n",
    "@constraint(duck_curve,totld[t=1:24] .== Lt[t=1:24] - b[t=1:24])\n",
    "@constraint(duck_curve, 0.<= Csum*b .<= E_i)\n",
    "@objective(duck_curve,Min,epsilon)\n",
    "@show duck_curve\n",
    "# epsilon |> typeof"
   ]
  },
  {
   "cell_type": "code",
   "execution_count": 12,
   "metadata": {
    "collapsed": true
   },
   "outputs": [
    {
     "name": "stdout",
     "output_type": "stream",
     "text": [
      "LowerTriangular{Float64,Array{Float64,2}}\n",
      "Array{JuMP.Variable,1}\n",
      "LowerTriangular(ones((3, 3))) = "
     ]
    },
    {
     "data": {
      "text/plain": [
       "3×3 LowerTriangular{Float64,Array{Float64,2}}:\n",
       " 1.0   ⋅    ⋅ \n",
       " 1.0  1.0   ⋅ \n",
       " 1.0  1.0  1.0"
      ]
     },
     "execution_count": 12,
     "metadata": {},
     "output_type": "execute_result"
    },
    {
     "name": "stdout",
     "output_type": "stream",
     "text": [
      "[1.0 0.0 0.0; 1.0 1.0 0.0; 1.0 1.0 1.0]\n"
     ]
    }
   ],
   "source": [
    "print(typeof(LowerTriangular(ones((24,24)))),\"\\n\")\n",
    "print(typeof(b),\"\\n\")\n",
    "@show LowerTriangular(ones((3,3)))"
   ]
  },
  {
   "cell_type": "code",
   "execution_count": null,
   "metadata": {},
   "outputs": [],
   "source": [
    "c = [1 3 5 2]'\n",
    "A = [ \n",
    "1 1 9 5;\n",
    "3 5 0 8;\n",
    "2 0 6 13\n",
    "]\n",
    "b = [7 3 5]'\n",
    "m, n = size(A)"
   ]
  },
  {
   "cell_type": "code",
   "execution_count": null,
   "metadata": {},
   "outputs": [],
   "source": [
    "clpmodel = Model(solver = ClpSolver())\n",
    "@variable(clpmodel,x[1:n])\n",
    "@variable(clpmodel,y[1:n])"
   ]
  },
  {
   "cell_type": "code",
   "execution_count": null,
   "metadata": {},
   "outputs": [],
   "source": [
    "@constraint(clpmodel, constr[i=1:n,j=1:n; i+j <= 3], x[i] - y[j] == 1)"
   ]
  },
  {
   "cell_type": "code",
   "execution_count": null,
   "metadata": {},
   "outputs": [],
   "source": [
    "print(clpmodel)"
   ]
  },
  {
   "cell_type": "code",
   "execution_count": null,
   "metadata": {},
   "outputs": [],
   "source": [
    "using JuMP\n",
    "using Clp\n",
    "#JuMP: A MODELING LANGUAGE FOR MATHEMATICAL OPTIMIZATION\n",
    "#299\n",
    "#$JuMP\n",
    "node = collect(1:5)\n",
    "immutable Edge\n",
    "    from; to; cost; capacity\n",
    "end\n",
    "edges = [Edge(1,2,1,0.5), Edge(1,3,2,0.4), Edge(1,4,3,0.6),\n",
    "Edge(2,5,2,0.3), Edge(3,5,2,0.6), Edge(4,5,2,0.5)]\n",
    "mcf = Model(solver = ClpSolver())\n",
    "\n",
    "@variable(mcf, 0 <= flow[e in edges] <= e.capacity)\n",
    "@constraint(mcf, sum{flow[e], e in edges; e.to==5}== 1)\n",
    "@constraint(mcf, flowcon[n=2:4], sum{flow[e], e in edges; e.to==node}\n",
    "    == sum{flow[e], e in edges; e.from==node})\n",
    "@objective(mcf, Min, sum{e.cost * flow[e], e in edges})\n",
    "# print(mcf)"
   ]
  },
  {
   "cell_type": "code",
   "execution_count": null,
   "metadata": {},
   "outputs": [],
   "source": [
    "@show node\n",
    "@show mcf"
   ]
  },
  {
   "cell_type": "code",
   "execution_count": null,
   "metadata": {},
   "outputs": [],
   "source": [
    "status = solve(mcf) # solves the model"
   ]
  },
  {
   "cell_type": "code",
   "execution_count": null,
   "metadata": {},
   "outputs": [],
   "source": [
    "println(\"Minimum Cost is: \", getobjectivevalue(mcf)) # getObjectiveValue(model_name) gives the optimum objective value\n",
    "\n",
    "println(\"Flow is = \\n\", getvalue(flow)) # getValue(decision_variable) will give the optimum value \n",
    "                                                   # of the associated decision variable"
   ]
  },
  {
   "cell_type": "code",
   "execution_count": null,
   "metadata": {},
   "outputs": [],
   "source": [
    "T = 4\n",
    "Ns = 4\n",
    "O = 5\n",
    "MAX_GEN = 50\n",
    "gamma_gen = linspace(0, MAX_GEN, O)\n",
    "s_cap = 10\n",
    "d = 3\n",
    "L_t = \n",
    "@show T Ns O gamma_gen\n",
    "print(ndims(gamma_gen))"
   ]
  },
  {
   "cell_type": "code",
   "execution_count": null,
   "metadata": {},
   "outputs": [],
   "source": [
    "using JuMP\n",
    "using Clp\n",
    "#JuMP: A MODELING LANGUAGE FOR MATHEMATICAL OPTIMIZATION\n",
    "#299\n",
    "#$JuMP\n",
    "sd_mg = Model(solver = ClpSolver())\n",
    "# myfunction2(A) = sum(A,2)\n",
    "# myexp2 = sum(xi,2)\n",
    "# @variable(sd_mg, 0 <= flow[e in edges] <= 1)e.capacity)\n",
    "# @variable(sd_mg, 0 <= xi[[i in 1:Ns][j in 1:O][t in 1:T]] <= 1)\n",
    "@variable(sd_mg, 0 <= xi[1:Ns,1:O,t = 1:T] <= 1,Bin)\n",
    "@variable(sd_mg, -d <= (st[1:Ns,1:O,t = 1:T]) <=  d)\n",
    "for i in 1:Ns\n",
    "    for t in 1:T\n",
    "    @constraint(sd_mg,sum(xi[i,:,t]) == 1)\n",
    "    end\n",
    "end\n",
    "# for t in 1:T\n",
    "#     @constraint(sd_mg,cumsum(xi[:,:,t]) <= s_cap)\n",
    "# end\n",
    "# @constraint(sd_mg,sum{xi[i,j,t],i=1:Ns,j,t = 1:T} == 1)\n",
    "# linearterms{sum(xi,2),1}#(aff::GenericAffExpr{C,V})\n",
    "# @objective(sd_mg,Min, sum(gamma_gen * (xi[j]) for j in 1:O))\n",
    "@show sd_mg"
   ]
  },
  {
   "cell_type": "code",
   "execution_count": null,
   "metadata": {
    "collapsed": true
   },
   "outputs": [],
   "source": [
    "@constraint(sd_mg, sum{flow[e], e in edges; e.to==5}== 1)\n",
    "@constraint(sd_mg, flowcon[n=2:4], sum{flow[e], e in edges; e.to==node}\n",
    "    == sum{flow[e], e in edges; e.from==node})\n",
    "@objective(mcf, Min, sum{e.cost * flow[e], e in edges})"
   ]
  },
  {
   "cell_type": "code",
   "execution_count": null,
   "metadata": {},
   "outputs": [],
   "source": [
    "δ = 5\n",
    "print(δ)"
   ]
  },
  {
   "cell_type": "code",
   "execution_count": null,
   "metadata": {},
   "outputs": [],
   "source": [
    "using JuMP\n",
    "using Clp\n",
    "lp = Model(solver = ClpSolver())\n",
    "@variable(lp, x2 >=0)\n",
    "@variable(lp, x3 >=0)\n",
    "@variable(lp, x1 >=0)\n",
    "@objective(lp,Max, x1+x2+x3)\n",
    "@constraints(lp, begin\n",
    "    x1 + x2 <= 1\n",
    "    x2 + x3 <= 1\n",
    "    x1 + x3 <= 1\n",
    "        end)\n",
    "@show lp"
   ]
  },
  {
   "cell_type": "code",
   "execution_count": null,
   "metadata": {},
   "outputs": [],
   "source": [
    "status = solve(lp)"
   ]
  },
  {
   "cell_type": "code",
   "execution_count": null,
   "metadata": {},
   "outputs": [],
   "source": [
    "print(\"x1 = \",getvalue(x1),\"\\n\")\n",
    "print(\"x2 = \",getvalue(x2),\"\\n\")\n",
    "print(\"x3 = \",getvalue(x3),\"\\n\")"
   ]
  },
  {
   "cell_type": "code",
   "execution_count": null,
   "metadata": {},
   "outputs": [],
   "source": [
    "using JuMP\n",
    "m = Model()\n",
    "@variable(m, x[1:100, 1:100])\n",
    "a = [[13,4], [22,78], [18,97], [56,32]]\n",
    "# @constraint(m, sum(x[i] for i in a) == 87)\n",
    "@constraint(m, sum(x[i,j] for (i,j) in a) == 87)\n",
    "println(m)"
   ]
  },
  {
   "cell_type": "code",
   "execution_count": 25,
   "metadata": {},
   "outputs": [
    {
     "name": "stdout",
     "output_type": "stream",
     "text": [
      "full_solar_data.mat\n",
      "Peak_shave.ipynb\n",
      "syms_draft.ipynb\n",
      "test1.jl\n",
      "test2.jl\n",
      "test_opt.ipynb\n"
     ]
    }
   ],
   "source": [
    ";ls "
   ]
  }
 ],
 "metadata": {
  "kernelspec": {
   "display_name": "Julia 0.6.3",
   "language": "julia",
   "name": "julia-0.6"
  },
  "language_info": {
   "file_extension": ".jl",
   "mimetype": "application/julia",
   "name": "julia",
   "version": "0.6.3"
  }
 },
 "nbformat": 4,
 "nbformat_minor": 2
}
